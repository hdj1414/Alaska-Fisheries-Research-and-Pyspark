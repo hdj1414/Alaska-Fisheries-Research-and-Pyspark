{
  "nbformat": 4,
  "nbformat_minor": 0,
  "metadata": {
    "colab": {
      "provenance": [],
      "collapsed_sections": [
        "Xcwj4XHouStr",
        "YM4VGe8FuXnC",
        "LpBJiEnNudB7",
        "FLJplpOtumzH",
        "4wK1QNPVuzpG",
        "2V9xuGsuu8hR",
        "AtRUyaNCHk3H",
        "wlfLO3AJpRGQ",
        "B-DwBNZfaDvH",
        "B8UiIyP3n4c0",
        "XrilUioWJDav",
        "uTf5A8mUPj1I",
        "MCyP8zjGJZss",
        "qoBMdLxTLgcx",
        "NNi-EqG4LqSd",
        "q3qkek84nXaV",
        "gOHwU3XCWOYd",
        "yrreBo00ZJhQ",
        "zQ45dro2pZ7c",
        "_10j8FPRzCLI",
        "A060sBwf0FaD",
        "DZKK7wF26-Od"
      ]
    },
    "kernelspec": {
      "name": "python3",
      "display_name": "Python 3"
    },
    "language_info": {
      "name": "python"
    }
  },
  "cells": [
    {
      "cell_type": "markdown",
      "source": [
        "### FA23 IN INFO H516 27452 Applied Cloud Computing for Data Intensive Sciences\n",
        "## Project Final - Notebook\n",
        "**Enchaining Fisheries Research Insights through Big Data Analytics**\n",
        "### - Group 7\n",
        "- Bhushan Shelke\n",
        "- Hasaranga Jayathilake"
      ],
      "metadata": {
        "id": "7XH31ATbrTjn"
      }
    },
    {
      "cell_type": "markdown",
      "source": [
        "### Setting up spark!"
      ],
      "metadata": {
        "id": "Xcwj4XHouStr"
      }
    },
    {
      "cell_type": "code",
      "execution_count": null,
      "metadata": {
        "id": "Wq36eJM6ENpu"
      },
      "outputs": [],
      "source": [
        "!apt-get install openjdk-8-jdk-headless -qq > /dev/null\n",
        "!wget -q https://archive.apache.org/dist/spark/spark-3.2.0/spark-3.2.0-bin-hadoop3.2.tgz\n",
        "!tar xf spark-3.2.0-bin-hadoop3.2.tgz\n",
        "!pip install -q findspark"
      ]
    },
    {
      "cell_type": "code",
      "source": [
        "import os\n",
        "os.environ[\"JAVA_HOME\"] = \"/usr/lib/jvm/java-8-openjdk-amd64\"\n",
        "os.environ[\"SPARK_HOME\"] = \"spark-3.2.0-bin-hadoop3.2\""
      ],
      "metadata": {
        "id": "ZplHFHyhERB9"
      },
      "execution_count": null,
      "outputs": []
    },
    {
      "cell_type": "code",
      "source": [
        "import findspark\n",
        "findspark.init()"
      ],
      "metadata": {
        "id": "_Ti_CzJGEWAd"
      },
      "execution_count": null,
      "outputs": []
    },
    {
      "cell_type": "code",
      "source": [
        "from pyspark.sql import SparkSession\n",
        "spark = SparkSession.builder.master(\"local[*]\").getOrCreate()\n",
        "sc = spark.sparkContext\n",
        "sc"
      ],
      "metadata": {
        "colab": {
          "base_uri": "https://localhost:8080/"
        },
        "id": "oQNH_zfYEYrB",
        "outputId": "b66625d2-d2d4-4ae4-fe92-2456ef01a88f"
      },
      "execution_count": null,
      "outputs": [
        {
          "output_type": "execute_result",
          "data": {
            "text/plain": [
              "<SparkContext master=local[*] appName=pyspark-shell>"
            ],
            "text/html": [
              "\n",
              "        <div>\n",
              "            <p><b>SparkContext</b></p>\n",
              "\n",
              "            <p><a href=\"http://340edf9acd20:4040\">Spark UI</a></p>\n",
              "\n",
              "            <dl>\n",
              "              <dt>Version</dt>\n",
              "                <dd><code>v3.2.0</code></dd>\n",
              "              <dt>Master</dt>\n",
              "                <dd><code>local[*]</code></dd>\n",
              "              <dt>AppName</dt>\n",
              "                <dd><code>pyspark-shell</code></dd>\n",
              "            </dl>\n",
              "        </div>\n",
              "        "
            ]
          },
          "metadata": {},
          "execution_count": 4
        }
      ]
    },
    {
      "cell_type": "code",
      "source": [
        "from google.colab import drive\n",
        "drive.mount('/content/drive')\n"
      ],
      "metadata": {
        "colab": {
          "base_uri": "https://localhost:8080/"
        },
        "id": "75MkxR93Eboj",
        "outputId": "3d886292-0084-4248-c890-6dd7201cd4f8"
      },
      "execution_count": null,
      "outputs": [
        {
          "output_type": "stream",
          "name": "stdout",
          "text": [
            "Drive already mounted at /content/drive; to attempt to forcibly remount, call drive.mount(\"/content/drive\", force_remount=True).\n"
          ]
        }
      ]
    },
    {
      "cell_type": "markdown",
      "source": [
        "### Importing Libraries"
      ],
      "metadata": {
        "id": "YM4VGe8FuXnC"
      }
    },
    {
      "cell_type": "code",
      "source": [
        "import pyspark.sql\n",
        "import numpy as np\n",
        "import matplotlib.pyplot as plt\n",
        "from pyspark.sql import Row\n",
        "from pyspark.sql.types import *\n",
        "import json\n",
        "from pyspark.sql.functions import col, sum, lit\n",
        "from math import sqrt"
      ],
      "metadata": {
        "id": "I47O7CMSEcPD"
      },
      "execution_count": null,
      "outputs": []
    },
    {
      "cell_type": "code",
      "source": [
        "from pyspark.mllib.stat import Statistics\n",
        "from pyspark.ml.linalg import Vectors\n",
        "from pyspark.ml.stat import Correlation\n",
        "from pyspark.ml.clustering import LDA\n",
        "import warnings"
      ],
      "metadata": {
        "id": "dJFvSYRdITIw"
      },
      "execution_count": null,
      "outputs": []
    },
    {
      "cell_type": "code",
      "source": [
        "from pyspark.ml.feature import VectorAssembler\n",
        "from pyspark.ml.regression import RandomForestRegressor\n",
        "from pyspark.ml.regression import RandomForestRegressor\n",
        "from pyspark.ml import Pipeline\n",
        "from pyspark.mllib.classification import LogisticRegressionModel,LogisticRegressionWithLBFGS, SVMWithSGD, SVMModel,LogisticRegressionWithSGD\n",
        "from pyspark.mllib.regression import LabeledPoint, LinearRegressionWithSGD, LinearRegressionModel\n",
        "from pyspark.mllib.clustering import *\n",
        "from pyspark.ml.linalg import Vectors\n",
        "from pyspark.mllib.tree import DecisionTree"
      ],
      "metadata": {
        "id": "0e9fUrHDzj4j"
      },
      "execution_count": null,
      "outputs": []
    },
    {
      "cell_type": "code",
      "source": [
        "import pandas as pd\n",
        "from sklearn.model_selection import train_test_split\n",
        "from sklearn.ensemble import RandomForestRegressor\n",
        "from sklearn.metrics import mean_squared_error\n",
        "from pyspark.ml.regression import LinearRegression\n",
        "from pyspark.ml.evaluation import RegressionEvaluator\n",
        "from pyspark.ml.stat import ChiSquareTest"
      ],
      "metadata": {
        "id": "xr_bkmpgzw99"
      },
      "execution_count": null,
      "outputs": []
    },
    {
      "cell_type": "code",
      "source": [
        "from pyspark.ml.classification import LogisticRegression\n",
        "from pyspark.ml.evaluation import BinaryClassificationEvaluator\n",
        "from pyspark.ml import Pipeline\n",
        "from pyspark.ml.regression import GBTRegressor\n",
        "from pyspark.ml.regression import GeneralizedLinearRegression"
      ],
      "metadata": {
        "id": "FIJfqhBnz8lA"
      },
      "execution_count": null,
      "outputs": []
    },
    {
      "cell_type": "markdown",
      "source": [
        "### Loading our data"
      ],
      "metadata": {
        "id": "LpBJiEnNudB7"
      }
    },
    {
      "cell_type": "code",
      "source": [
        "df = spark.read.format(\"csv\").option(\"header\",\"true\").load(\"/content/drive/MyDrive/Spark_proj/ABL_Longline Sablefish Survey.csv\")\n",
        "df.createOrReplaceTempView(\"ABL_Survey\")"
      ],
      "metadata": {
        "id": "RDWF2HT-EgLO"
      },
      "execution_count": null,
      "outputs": []
    },
    {
      "cell_type": "code",
      "source": [
        "q1 = spark.sql(\"SELECT * FROM ABL_Survey LIMIT 5\")\n",
        "q1.show(truncate=False)"
      ],
      "metadata": {
        "colab": {
          "base_uri": "https://localhost:8080/"
        },
        "id": "BJZXyuL5gOJz",
        "outputId": "7e3fde42-b837-4180-9552-fced5069f7c2"
      },
      "execution_count": null,
      "outputs": [
        {
          "output_type": "stream",
          "name": "stdout",
          "text": [
            "+-------------+-------------+--------------+------------+----------+---------------------+-----+-----------+-------------+----+-----------------------+-------------+-------------+-----------+-----------+--------------+------------+---------------+-------------+---------+------------------+--------------+------------+--------+-------+--------+------+-----------+------------+---------------------------------+--------------------+-----------+-----------------------+----------------+----+------------------+-------------------+-----+----------+-----------------+--------+--------------+-----------------------------------------------+--------------------------------------------------+-------------------+----------------+----------+---------------+---------+---------------+-------------------+\n",
            "|cruise_number|vessel_number|station_number|species_code|catch_freq|common_name          |hachi|vessel_name|country      |year|haul_date              |start_hemi_ns|start_hemi_ew|end_hemi_ns|end_hemi_ew|set_start_time|set_end_time|haul_start_time|haul_end_time|soak_time|distance_fished   |starting_depth|ending_depth|intrpdep|stratum|stratum2|baited|ineffective|station_type|council_sablefish_management_area|geographic_area_name|exploitable|habitat_type           |depredation_flag|haul|stratumdescription|stratumdescription2|depth|depth_time|cruise_station_id|depth_id|nmfs_area_code|location_1                                     |location_2                                        |surface_temperature|gear_temperature|rpn_filter|mammal_sighting|tdr_depth|depredated_freq|non_depredated_freq|\n",
            "+-------------+-------------+--------------+------------+----------+---------------------+-----+-----------+-------------+----+-----------------------+-------------+-------------+-----------+-----------+--------------+------------+---------------+-------------+---------+------------------+--------------+------------+--------+-------+--------+------+-----------+------------+---------------------------------+--------------------+-----------+-----------------------+----------------+----+------------------+-------------------+-----+----------+-----------------+--------+--------------+-----------------------------------------------+--------------------------------------------------+-------------------+----------------+----------+---------------+---------+---------------+-------------------+\n",
            "|198801       |70           |62            |400         |1.0       |Skates unidentified  |1    |Prowler    |United States|1988|1988-07-07T00:00:00.000|N            |W            |N          |W          |641           |825         |935            |2100         |572      |8.6000003814697266|135           |480         |137     |2      |2a      |8     |1          |Standard    |Western Gulf of Alaska           |Shumagin Slope      |1.0        |Upper continental slope|0               |1   |101-200m          |101-150m           |137  |1017      |9                |1       |610           |{'latitude': '52.6', 'longitude': '-169.51784'}|{'latitude': '52.46833', 'longitude': '-169.5265'}|null               |null            |null      |null           |null     |null           |null               |\n",
            "|198801       |70           |62            |10120       |7.0       |Pacific halibut      |1    |Prowler    |United States|1988|1988-07-07T00:00:00.000|N            |W            |N          |W          |641           |825         |935            |2100         |572      |8.6000003814697266|135           |480         |137     |2      |2a      |8     |1          |Standard    |Western Gulf of Alaska           |Shumagin Slope      |1.0        |Upper continental slope|0               |1   |101-200m          |101-150m           |137  |1017      |9                |1       |610           |{'latitude': '52.6', 'longitude': '-169.51784'}|{'latitude': '52.46833', 'longitude': '-169.5265'}|null               |null            |null      |null           |null     |null           |null               |\n",
            "|198801       |70           |62            |21300       |3.0       |Sculpin, unidentified|1    |Prowler    |United States|1988|1988-07-07T00:00:00.000|N            |W            |N          |W          |641           |825         |935            |2100         |572      |8.6000003814697266|135           |480         |137     |2      |2a      |8     |1          |Standard    |Western Gulf of Alaska           |Shumagin Slope      |1.0        |Upper continental slope|0               |1   |101-200m          |101-150m           |137  |1017      |9                |1       |610           |{'latitude': '52.6', 'longitude': '-169.51784'}|{'latitude': '52.46833', 'longitude': '-169.5265'}|null               |null            |null      |null           |null     |null           |null               |\n",
            "|198801       |70           |62            |21720       |3.0       |Pacific cod          |1    |Prowler    |United States|1988|1988-07-07T00:00:00.000|N            |W            |N          |W          |641           |825         |935            |2100         |572      |8.6000003814697266|135           |480         |137     |2      |2a      |8     |1          |Standard    |Western Gulf of Alaska           |Shumagin Slope      |1.0        |Upper continental slope|0               |1   |101-200m          |101-150m           |137  |1017      |9                |1       |610           |{'latitude': '52.6', 'longitude': '-169.51784'}|{'latitude': '52.46833', 'longitude': '-169.5265'}|null               |null            |null      |null           |null     |null           |null               |\n",
            "|198801       |70           |62            |10120       |17.0      |Pacific halibut      |2    |Prowler    |United States|1988|1988-07-07T00:00:00.000|N            |W            |N          |W          |641           |825         |935            |2100         |572      |8.6000003814697266|135           |480         |136     |2      |2a      |5     |0          |Standard    |Western Gulf of Alaska           |Shumagin Slope      |1.0        |Upper continental slope|0               |1   |101-200m          |101-150m           |null |null      |9                |2       |610           |{'latitude': '52.6', 'longitude': '-169.51784'}|{'latitude': '52.46833', 'longitude': '-169.5265'}|null               |null            |null      |null           |null     |null           |null               |\n",
            "+-------------+-------------+--------------+------------+----------+---------------------+-----+-----------+-------------+----+-----------------------+-------------+-------------+-----------+-----------+--------------+------------+---------------+-------------+---------+------------------+--------------+------------+--------+-------+--------+------+-----------+------------+---------------------------------+--------------------+-----------+-----------------------+----------------+----+------------------+-------------------+-----+----------+-----------------+--------+--------------+-----------------------------------------------+--------------------------------------------------+-------------------+----------------+----------+---------------+---------+---------------+-------------------+\n",
            "\n"
          ]
        }
      ]
    },
    {
      "cell_type": "code",
      "source": [
        "q1 = spark.sql(\"SELECT start_hemi_ns, start_hemi_ew, end_hemi_ns, end_hemi_ew, AVG(catch_freq) FROM ABL_Survey GROUP BY start_hemi_ns, start_hemi_ew, end_hemi_ns, end_hemi_ew \")\n",
        "q1.show(truncate=False)"
      ],
      "metadata": {
        "colab": {
          "base_uri": "https://localhost:8080/"
        },
        "id": "0iw1PAW_3B6V",
        "outputId": "9e45bc86-d3d3-4f9a-9b99-b84786c93dcb"
      },
      "execution_count": null,
      "outputs": [
        {
          "output_type": "stream",
          "name": "stdout",
          "text": [
            "+-------------+-------------+-----------+-----------+------------------+\n",
            "|start_hemi_ns|start_hemi_ew|end_hemi_ns|end_hemi_ew|avg(catch_freq)   |\n",
            "+-------------+-------------+-----------+-----------+------------------+\n",
            "|n            |w            |n          |w          |4.9313624678663235|\n",
            "|N            |W            |N          |W          |5.133610982457038 |\n",
            "|N            |E            |N          |E          |4.927614763316634 |\n",
            "|N            |E            |N          |W          |3.5269121813031163|\n",
            "+-------------+-------------+-----------+-----------+------------------+\n",
            "\n"
          ]
        }
      ]
    },
    {
      "cell_type": "code",
      "source": [
        "q1 = spark.sql(\"SELECT DISTINCT(council_sablefish_management_area) FROM ABL_Survey\")\n",
        "q1.show(truncate=False)"
      ],
      "metadata": {
        "colab": {
          "base_uri": "https://localhost:8080/"
        },
        "id": "Ffr6POr1syl5",
        "outputId": "07a29b5d-fab4-4cbc-8550-d1b8f656c3b7"
      },
      "execution_count": null,
      "outputs": [
        {
          "output_type": "stream",
          "name": "stdout",
          "text": [
            "+---------------------------------+\n",
            "|council_sablefish_management_area|\n",
            "+---------------------------------+\n",
            "|West Yakutat                     |\n",
            "|East Yakutat/Southeast           |\n",
            "|Western Gulf of Alaska           |\n",
            "|Central Gulf of Alaska           |\n",
            "|Bering Sea                       |\n",
            "|Aleutians                        |\n",
            "+---------------------------------+\n",
            "\n"
          ]
        }
      ]
    },
    {
      "cell_type": "code",
      "source": [
        "null_counts = df.select([sum(col(c).isNull().cast(\"int\")).alias(c) for c in df.columns])\n",
        "\n",
        "null_counts.show()"
      ],
      "metadata": {
        "colab": {
          "base_uri": "https://localhost:8080/"
        },
        "id": "vJxzis4tTaX3",
        "outputId": "533c69fb-cc12-45f6-b638-bd83676ae2ec"
      },
      "execution_count": null,
      "outputs": [
        {
          "output_type": "stream",
          "name": "stdout",
          "text": [
            "+-------------+-------------+--------------+------------+----------+-----------+-----+-----------+-------+----+---------+-------------+-------------+-----------+-----------+--------------+------------+---------------+-------------+---------+---------------+--------------+------------+--------+-------+--------+------+-----------+------------+---------------------------------+--------------------+-----------+------------+----------------+----+------------------+-------------------+-------+----------+-----------------+--------+--------------+----------+----------+-------------------+----------------+----------+---------------+---------+---------------+-------------------+\n",
            "|cruise_number|vessel_number|station_number|species_code|catch_freq|common_name|hachi|vessel_name|country|year|haul_date|start_hemi_ns|start_hemi_ew|end_hemi_ns|end_hemi_ew|set_start_time|set_end_time|haul_start_time|haul_end_time|soak_time|distance_fished|starting_depth|ending_depth|intrpdep|stratum|stratum2|baited|ineffective|station_type|council_sablefish_management_area|geographic_area_name|exploitable|habitat_type|depredation_flag|haul|stratumdescription|stratumdescription2|  depth|depth_time|cruise_station_id|depth_id|nmfs_area_code|location_1|location_2|surface_temperature|gear_temperature|rpn_filter|mammal_sighting|tdr_depth|depredated_freq|non_depredated_freq|\n",
            "+-------------+-------------+--------------+------------+----------+-----------+-----+-----------+-------+----+---------+-------------+-------------+-----------+-----------+--------------+------------+---------------+-------------+---------+---------------+--------------+------------+--------+-------+--------+------+-----------+------------+---------------------------------+--------------------+-----------+------------+----------------+----+------------------+-------------------+-------+----------+-----------------+--------+--------------+----------+----------+-------------------+----------------+----------+---------------+---------+---------------+-------------------+\n",
            "|            0|            0|             0|           0|         0|         62|    0|          0|      0|   0|        0|            0|            0|          0|          0|         98488|       98123|          98123|        98123|    64414|              0|             0|           0|       0|      0|       0|772115|     199029|           0|                                0|                   0|          0|           0|               0|   0|                 0|                  0|1528070|    867430|                0|       0|             0|         0|         0|             420136|         1296250|   1995363|        1868963|  1406441|        1678547|            1678547|\n",
            "+-------------+-------------+--------------+------------+----------+-----------+-----+-----------+-------+----+---------+-------------+-------------+-----------+-----------+--------------+------------+---------------+-------------+---------+---------------+--------------+------------+--------+-------+--------+------+-----------+------------+---------------------------------+--------------------+-----------+------------+----------------+----+------------------+-------------------+-------+----------+-----------------+--------+--------------+----------+----------+-------------------+----------------+----------+---------------+---------+---------------+-------------------+\n",
            "\n"
          ]
        }
      ]
    },
    {
      "cell_type": "markdown",
      "source": [
        "#### Dropping columns with almost 50% missing values"
      ],
      "metadata": {
        "id": "FLJplpOtumzH"
      }
    },
    {
      "cell_type": "code",
      "source": [
        "# Dropping columns having more than 50% of null values\n",
        "columns_to_drop = ['gear_temperature','rpn_filter','mammal_sighting','tdr_depth','depredated_freq','non_depredated_freq']  # Replace with your actual column names\n",
        "df = df.drop(*columns_to_drop)"
      ],
      "metadata": {
        "id": "el3rv4vWtZdR"
      },
      "execution_count": null,
      "outputs": []
    },
    {
      "cell_type": "markdown",
      "source": [
        "#### Changing datatype of numerical columns"
      ],
      "metadata": {
        "id": "4wK1QNPVuzpG"
      }
    },
    {
      "cell_type": "code",
      "source": [
        "df = df.withColumn(\"distance_fished\", col(\"distance_fished\").cast(\"float\"))\n",
        "df = df.withColumn(\"catch_freq\", col(\"catch_freq\").cast(\"float\"))\n",
        "df = df.withColumn(\"hachi\", col(\"hachi\").cast(\"float\"))\n",
        "df = df.withColumn(\"year\", col(\"year\").cast(\"float\"))\n",
        "df = df.withColumn(\"soak_time\", col(\"soak_time\").cast(\"float\"))\n",
        "df = df.withColumn(\"starting_depth\", col(\"starting_depth\").cast(\"float\"))\n",
        "df = df.withColumn(\"ending_depth\", col(\"ending_depth\").cast(\"float\"))\n",
        "df = df.withColumn(\"surface_temperature\", col(\"surface_temperature\").cast(\"float\"))"
      ],
      "metadata": {
        "id": "TG_lZE_-kndO"
      },
      "execution_count": null,
      "outputs": []
    },
    {
      "cell_type": "markdown",
      "source": [
        "#### Few Spark SQL operations"
      ],
      "metadata": {
        "id": "2V9xuGsuu8hR"
      }
    },
    {
      "cell_type": "code",
      "source": [
        "df.createOrReplaceTempView(\"ABL_Survey\")"
      ],
      "metadata": {
        "id": "Fo9uWs3AQ3zY"
      },
      "execution_count": null,
      "outputs": []
    },
    {
      "cell_type": "code",
      "source": [
        "q1 = spark.sql(\"SELECT DISTINCT(year) FROM ABL_Survey\")\n",
        "q1.show(100)"
      ],
      "metadata": {
        "id": "Y0Mh16A7XpPS",
        "colab": {
          "base_uri": "https://localhost:8080/"
        },
        "outputId": "8267d4b9-9737-40c3-c3f2-e5052bf0bb81"
      },
      "execution_count": null,
      "outputs": [
        {
          "output_type": "stream",
          "name": "stdout",
          "text": [
            "+------+\n",
            "|  year|\n",
            "+------+\n",
            "|1999.0|\n",
            "|1992.0|\n",
            "|2001.0|\n",
            "|1997.0|\n",
            "|1995.0|\n",
            "|1988.0|\n",
            "|1991.0|\n",
            "|1990.0|\n",
            "|1993.0|\n",
            "|1989.0|\n",
            "|1983.0|\n",
            "|1981.0|\n",
            "|1980.0|\n",
            "|1998.0|\n",
            "|2000.0|\n",
            "|1996.0|\n",
            "|1986.0|\n",
            "|1994.0|\n",
            "|1985.0|\n",
            "|1987.0|\n",
            "|1979.0|\n",
            "|1982.0|\n",
            "|2004.0|\n",
            "|1984.0|\n",
            "|2005.0|\n",
            "|2010.0|\n",
            "|2003.0|\n",
            "|2011.0|\n",
            "|2009.0|\n",
            "|2008.0|\n",
            "|2006.0|\n",
            "|2007.0|\n",
            "|2002.0|\n",
            "|2016.0|\n",
            "|2012.0|\n",
            "|2014.0|\n",
            "|2017.0|\n",
            "|2013.0|\n",
            "|2015.0|\n",
            "+------+\n",
            "\n"
          ]
        }
      ]
    },
    {
      "cell_type": "code",
      "source": [
        "q1 = spark.sql(\"SELECT max(catch_freq) FROM ABL_Survey\").show()\n"
      ],
      "metadata": {
        "id": "pxnbN08nge_C",
        "colab": {
          "base_uri": "https://localhost:8080/"
        },
        "outputId": "72e8132c-571f-414f-f589-b5f18ac872e0"
      },
      "execution_count": null,
      "outputs": [
        {
          "output_type": "stream",
          "name": "stdout",
          "text": [
            "+---------------+\n",
            "|max(catch_freq)|\n",
            "+---------------+\n",
            "|           86.0|\n",
            "+---------------+\n",
            "\n"
          ]
        }
      ]
    },
    {
      "cell_type": "markdown",
      "source": [
        "### Data viz.\n"
      ],
      "metadata": {
        "id": "AtRUyaNCHk3H"
      }
    },
    {
      "cell_type": "code",
      "source": [
        "# catch_freq vs year\n",
        "q1 = spark.sql(\"SELECT year, AVG(catch_freq) as Catch FROM ABL_Survey GROUP BY year ORDER BY year\")\n",
        "viz1 = q1.toPandas()\n",
        "plt.plot(viz1['year'],viz1['Catch'],marker='o', linestyle='-', color='b')\n",
        "plt.title('Average Catch Frequency Over Years')\n",
        "plt.ylabel('Average Catch Frequency')\n",
        "plt.xticks(viz1['year'][::5])\n",
        "plt.show()"
      ],
      "metadata": {
        "colab": {
          "base_uri": "https://localhost:8080/"
        },
        "id": "a9OdrnFwHpi4",
        "outputId": "9f54ee41-bea0-42ff-bbf0-40e2a122ca72"
      },
      "execution_count": null,
      "outputs": [
        {
          "output_type": "display_data",
          "data": {
            "text/plain": [
              "<Figure size 640x480 with 1 Axes>"
            ],
            "image/png": "[encoded data removed]"
          },
          "metadata": {}
        }
      ]
    },
    {
      "cell_type": "code",
      "source": [
        "# catch_freq vs year\n",
        "q1 = spark.sql(\"SELECT year, AVG(distance_fished) as distance FROM ABL_Survey GROUP BY year ORDER BY year\")\n",
        "viz1 = q1.toPandas()\n",
        "plt.plot(viz1['year'],viz1['distance'],marker='o', linestyle='-', color='b')\n",
        "plt.title('Average Distance Fished Over Years')\n",
        "plt.ylabel('Average Catch Frequency')\n",
        "plt.xticks(viz1['year'][::5])\n",
        "plt.show()"
      ],
      "metadata": {
        "colab": {
          "base_uri": "https://localhost:8080/"
        },
        "id": "MQ9pMpHdHpe2",
        "outputId": "467449d1-0cb9-4788-beea-13c05cae2dc7"
      },
      "execution_count": null,
      "outputs": [
        {
          "output_type": "display_data",
          "data": {
            "text/plain": [
              "<Figure size 640x480 with 1 Axes>"
            ],
            "image/png": "[encoded data removed]"
          },
          "metadata": {}
        }
      ]
    },
    {
      "cell_type": "code",
      "source": [
        "# catch_freq vs year\n",
        "q1 = spark.sql(\"SELECT year, AVG(surface_temperature) as temp FROM ABL_Survey GROUP BY year ORDER BY year\")\n",
        "viz1 = q1.toPandas()\n",
        "plt.plot(viz1['year'],viz1['temp'],marker='o', linestyle='-', color='b')\n",
        "plt.title('Average Surface temperature Over Years')\n",
        "plt.xticks(viz1['year'][::5])\n",
        "plt.show()"
      ],
      "metadata": {
        "colab": {
          "base_uri": "https://localhost:8080/"
        },
        "id": "mprgDjuQHpb2",
        "outputId": "e65b2262-c8ae-40ac-d016-5da094f39dbb"
      },
      "execution_count": null,
      "outputs": [
        {
          "output_type": "display_data",
          "data": {
            "text/plain": [
              "<Figure size 640x480 with 1 Axes>"
            ],
            "image/png": "[encoded data removed]"
          },
          "metadata": {}
        }
      ]
    },
    {
      "cell_type": "code",
      "source": [
        "# catch_freq vs year\n",
        "q1 = spark.sql(\"SELECT year, MAX(ending_depth) as depth FROM ABL_Survey GROUP BY year ORDER BY year\")\n",
        "viz1 = q1.toPandas()\n",
        "plt.plot(viz1['year'],viz1['depth'],marker='o', linestyle='-', color='b')\n",
        "plt.title('Maximum depth reached Over Years')\n",
        "plt.xticks(viz1['year'][::5])\n",
        "plt.show()"
      ],
      "metadata": {
        "colab": {
          "base_uri": "https://localhost:8080/"
        },
        "id": "Dpg8sHIYHo9O",
        "outputId": "aa404519-fcc8-4888-9a77-778c15a1f5b6"
      },
      "execution_count": null,
      "outputs": [
        {
          "output_type": "display_data",
          "data": {
            "text/plain": [
              "<Figure size 640x480 with 1 Axes>"
            ],
            "image/png": "[encoded data removed]"
          },
          "metadata": {}
        }
      ]
    },
    {
      "cell_type": "markdown",
      "source": [
        "### Time series prediction for different regions"
      ],
      "metadata": {
        "id": "Ym6E18NTt0cZ"
      }
    },
    {
      "cell_type": "code",
      "source": [
        "def time_series_analysis(q1):\n",
        "  import statsmodels.api as sm\n",
        "\n",
        "  pandas_df = q1.toPandas()\n",
        "\n",
        "  time_column = 'year'\n",
        "  value_columns = ['avg(catch_freq)','AVG(distance_fished)', 'AVG(hachi)', 'AVG(soak_time)', 'AVG(starting_depth)', 'AVG(ending_depth)', 'AVG(intrpdep)']\n",
        "\n",
        "\n",
        "  # Renaming columns as required by statsmodels\n",
        "  statsmodels_df = pandas_df.rename(\n",
        "        columns={time_column: 'ds', **{col: f'y_{i}' for i, col in enumerate(value_columns)}}\n",
        "    )\n",
        "\n",
        "  statsmodels_df.set_index('ds', inplace=True)\n",
        "\n",
        "  # ARIMA model\n",
        "  model = sm.tsa.ARIMA(statsmodels_df['y_0'], order=(1, 1, 1))  # Adjust order as needed\n",
        "  result = model.fit()\n",
        "\n",
        "  # Forecasting future values\n",
        "  forecast_steps = 5\n",
        "  forecast = result.get_forecast(steps=forecast_steps)\n",
        "\n",
        "  # Extracting forecasted values\n",
        "  forecast_values = forecast.predicted_mean\n",
        "  warnings.filterwarnings(\"ignore\")\n",
        "\n",
        "  return forecast_values"
      ],
      "metadata": {
        "id": "3gQxcXpUZG9G"
      },
      "execution_count": null,
      "outputs": []
    },
    {
      "cell_type": "code",
      "source": [
        "# WEST YAKUTAT\n",
        "q1 = spark.sql(\"SELECT year ,AVG(catch_freq),AVG(distance_fished), AVG(hachi), AVG(soak_time), AVG(starting_depth), AVG(ending_depth), AVG(intrpdep) FROM ABL_Survey  WHERE council_sablefish_management_area = 'West Yakutat' GROUP BY year ORDER BY year\")\n",
        "time_series_analysis(q1)"
      ],
      "metadata": {
        "id": "BO3ha_sHuENj",
        "colab": {
          "base_uri": "https://localhost:8080/"
        },
        "outputId": "595967f4-f317-4150-c83a-6a998b6631e6"
      },
      "execution_count": null,
      "outputs": [
        {
          "output_type": "execute_result",
          "data": {
            "text/plain": [
              "2018-01-01    4.619464\n",
              "2019-01-01    4.665190\n",
              "2020-01-01    4.703936\n",
              "2021-01-01    4.736769\n",
              "2022-01-01    4.764591\n",
              "Freq: AS-JAN, Name: predicted_mean, dtype: float64"
            ]
          },
          "metadata": {},
          "execution_count": 86
        }
      ]
    },
    {
      "cell_type": "code",
      "source": [
        "# EAST YAKUTAT / SOUTHEAST\n",
        "q1 = spark.sql(\"SELECT year ,AVG(catch_freq),AVG(distance_fished), AVG(hachi), AVG(soak_time), AVG(starting_depth), AVG(ending_depth), AVG(intrpdep) FROM ABL_Survey  WHERE council_sablefish_management_area = 'East Yakutat/Southeast' GROUP BY year ORDER BY year\")\n",
        "time_series_analysis(q1)"
      ],
      "metadata": {
        "colab": {
          "base_uri": "https://localhost:8080/"
        },
        "id": "AMdhZhE66KKt",
        "outputId": "19bb74f5-12ca-4611-abbe-48539b124172"
      },
      "execution_count": null,
      "outputs": [
        {
          "output_type": "execute_result",
          "data": {
            "text/plain": [
              "2018-01-01    3.621079\n",
              "2019-01-01    3.772394\n",
              "2020-01-01    3.621097\n",
              "2021-01-01    3.772376\n",
              "2022-01-01    3.621115\n",
              "Freq: AS-JAN, Name: predicted_mean, dtype: float64"
            ]
          },
          "metadata": {},
          "execution_count": 87
        }
      ]
    },
    {
      "cell_type": "code",
      "source": [
        "# WESTERN GULF OF ALASKA\n",
        "q1 = spark.sql(\"SELECT year ,AVG(catch_freq),AVG(distance_fished), AVG(hachi), AVG(soak_time), AVG(starting_depth), AVG(ending_depth), AVG(intrpdep) FROM ABL_Survey  WHERE council_sablefish_management_area = 'Western Gulf of Alaska' GROUP BY year ORDER BY year\")\n",
        "time_series_analysis(q1)"
      ],
      "metadata": {
        "colab": {
          "base_uri": "https://localhost:8080/"
        },
        "id": "zKIRr_ls6Kzk",
        "outputId": "21f0d90f-c28e-4423-b59f-a011cd46b7cd"
      },
      "execution_count": null,
      "outputs": [
        {
          "output_type": "execute_result",
          "data": {
            "text/plain": [
              "2018-01-01    6.600812\n",
              "2019-01-01    6.602177\n",
              "2020-01-01    6.602120\n",
              "2021-01-01    6.602122\n",
              "2022-01-01    6.602122\n",
              "Freq: AS-JAN, Name: predicted_mean, dtype: float64"
            ]
          },
          "metadata": {},
          "execution_count": 88
        }
      ]
    },
    {
      "cell_type": "code",
      "source": [
        "# CENTRAL GULF OF ALASKA\n",
        "q1 = spark.sql(\"SELECT year ,AVG(catch_freq),AVG(distance_fished), AVG(hachi), AVG(soak_time), AVG(starting_depth), AVG(ending_depth), AVG(intrpdep) FROM ABL_Survey  WHERE council_sablefish_management_area = 'Central Gulf of Alaska' GROUP BY year ORDER BY year\")\n",
        "time_series_analysis(q1)"
      ],
      "metadata": {
        "colab": {
          "base_uri": "https://localhost:8080/"
        },
        "id": "haItq3nn6Ld0",
        "outputId": "5ed693f0-a6bd-4c82-b3da-29bd9ac51f81"
      },
      "execution_count": null,
      "outputs": [
        {
          "output_type": "execute_result",
          "data": {
            "text/plain": [
              "2018-01-01    4.606544\n",
              "2019-01-01    4.764194\n",
              "2020-01-01    4.625121\n",
              "2021-01-01    4.747806\n",
              "2022-01-01    4.639578\n",
              "Freq: AS-JAN, Name: predicted_mean, dtype: float64"
            ]
          },
          "metadata": {},
          "execution_count": 89
        }
      ]
    },
    {
      "cell_type": "code",
      "source": [
        "# BERING SEA\n",
        "q1 = spark.sql(\"SELECT year ,AVG(catch_freq),AVG(distance_fished), AVG(hachi), AVG(soak_time), AVG(starting_depth), AVG(ending_depth), AVG(intrpdep) FROM ABL_Survey  WHERE council_sablefish_management_area = 'Bering Sea' GROUP BY year ORDER BY year\")\n",
        "time_series_analysis(q1)"
      ],
      "metadata": {
        "colab": {
          "base_uri": "https://localhost:8080/"
        },
        "id": "KPZFA7k56MNd",
        "outputId": "19b99d61-0daf-4db3-ed6a-2ed7c808ae84"
      },
      "execution_count": null,
      "outputs": [
        {
          "output_type": "execute_result",
          "data": {
            "text/plain": [
              "27    4.408145\n",
              "28    4.422670\n",
              "29    4.432742\n",
              "30    4.439728\n",
              "31    4.444572\n",
              "Name: predicted_mean, dtype: float64"
            ]
          },
          "metadata": {},
          "execution_count": 90
        }
      ]
    },
    {
      "cell_type": "code",
      "source": [
        "# ALEUTIANS\n",
        "q1 = spark.sql(\"SELECT year ,AVG(catch_freq),AVG(distance_fished), AVG(hachi), AVG(soak_time), AVG(starting_depth), AVG(ending_depth), AVG(intrpdep) FROM ABL_Survey  WHERE council_sablefish_management_area = 'Aleutians' GROUP BY year ORDER BY year\")\n",
        "time_series_analysis(q1)"
      ],
      "metadata": {
        "colab": {
          "base_uri": "https://localhost:8080/"
        },
        "id": "J2MkNNfp6Mrt",
        "outputId": "d458c048-7f98-4f08-f436-ee46be80b7e1"
      },
      "execution_count": null,
      "outputs": [
        {
          "output_type": "execute_result",
          "data": {
            "text/plain": [
              "27    4.781598\n",
              "28    4.836491\n",
              "29    4.823145\n",
              "30    4.826390\n",
              "31    4.825601\n",
              "Name: predicted_mean, dtype: float64"
            ]
          },
          "metadata": {},
          "execution_count": 94
        }
      ]
    },
    {
      "cell_type": "markdown",
      "source": [
        "### Prediction using Linear Regression model for different regions"
      ],
      "metadata": {
        "id": "nO7mddIUpq-U"
      }
    },
    {
      "cell_type": "code",
      "source": [
        "from pyspark.ml.regression import LinearRegression\n",
        "\n",
        "\n",
        "def linear_regression(ml1):\n",
        "    # Casting columns to float\n",
        "    ml1 = ml1.withColumn(\"distance_fished\", col(\"distance_fished\").cast(\"float\"))\n",
        "    ml1 = ml1.withColumn(\"catch_freq\", col(\"catch_freq\").cast(\"float\"))\n",
        "    ml1 = ml1.withColumn(\"hachi\", col(\"hachi\").cast(\"float\"))\n",
        "    ml1 = ml1.withColumn(\"year\", col(\"year\").cast(\"float\"))\n",
        "    ml1 = ml1.withColumn(\"soak_time\", col(\"soak_time\").cast(\"float\"))\n",
        "    ml1 = ml1.withColumn(\"starting_depth\", col(\"starting_depth\").cast(\"float\"))\n",
        "    ml1 = ml1.withColumn(\"ending_depth\", col(\"ending_depth\").cast(\"float\"))\n",
        "    ml1 = ml1.withColumn(\"intrpdep\", col(\"intrpdep\").cast(\"float\"))\n",
        "    ml1 = ml1.withColumn(\"depth_time\", col(\"depth_time\").cast(\"float\"))\n",
        "\n",
        "    # Preparing the data\n",
        "    feature_columns = [\"year\", \"distance_fished\", \"hachi\", \"soak_time\", \"starting_depth\", \"ending_depth\"]\n",
        "    assembler = VectorAssembler(inputCols=feature_columns, outputCol=\"features\")\n",
        "    df_assembled = assembler.transform(ml1)\n",
        "\n",
        "    # Selecting features and target variable\n",
        "    data = df_assembled.select(\"features\", \"catch_freq\")\n",
        "\n",
        "    # Splitting the data into training and testing sets\n",
        "    (train_data, test_data) = data.randomSplit([0.8, 0.2], seed=1234)\n",
        "\n",
        "    # Defining the Linear Regression model\n",
        "    lr = LinearRegression(labelCol=\"catch_freq\", featuresCol=\"features\")\n",
        "\n",
        "    # Training the model\n",
        "    model = lr.fit(train_data)\n",
        "\n",
        "    # Making predictions on the test set\n",
        "    predictions = model.transform(test_data)\n",
        "\n",
        "    # Evaluating the model\n",
        "    evaluator = RegressionEvaluator(labelCol=\"catch_freq\", predictionCol=\"prediction\", metricName=\"mse\")\n",
        "    mse = evaluator.evaluate(predictions)\n",
        "    print(\"Mean Squared Error (MSE):\", mse)\n",
        "\n",
        "    rmse = evaluator.evaluate(predictions, {evaluator.metricName: \"rmse\"})\n",
        "    print(\"Root Mean Squared Error (RMSE):\", rmse)\n",
        "\n",
        "    mae = evaluator.evaluate(predictions, {evaluator.metricName: \"mae\"})\n",
        "    print(\"Mean Absolute Error (MAE):\", mae)\n",
        "\n",
        "    r2 = evaluator.evaluate(predictions, {evaluator.metricName: \"r2\"})\n",
        "    print(\"R-squared (R2):\", r2)\n",
        "\n",
        "    # Creating new data with years to predict\n",
        "    years_to_predict = [2018.0, 2019.0, 2020.0, 2021.0, 2022.0]\n",
        "    for year in years_to_predict:\n",
        "      new_data_df = spark.createDataFrame([(year,) for _ in range(len(years_to_predict))], [\"year\"])\n",
        "\n",
        "      # Cross join with other relevant columns\n",
        "      new_data_df = new_data_df.crossJoin(ml1.select(\"distance_fished\", \"hachi\", \"soak_time\", \"starting_depth\", \"ending_depth\"))\n",
        "\n",
        "      df_assembled_new = assembler.transform(new_data_df)\n",
        "\n",
        "      data_new = df_assembled_new.select(\"features\")\n",
        "\n",
        "      predictions = model.transform(data_new)\n",
        "\n",
        "\n",
        "      predictions.createOrReplaceTempView(\"pred\")\n",
        "\n",
        "\n",
        "      random_row = spark.sql(\"SELECT AVG(prediction) FROM pred \")\n",
        "\n",
        "\n",
        "      random_row.show(truncate=False)\n",
        "\n",
        "\n",
        "    return \"Executed...\"\n"
      ],
      "metadata": {
        "id": "jM4BjcIRpyl8"
      },
      "execution_count": null,
      "outputs": []
    },
    {
      "cell_type": "code",
      "source": [
        "# WEST YAKUTAT\n",
        "q1 = spark.sql(\"SELECT year ,catch_freq, distance_fished, hachi, soak_time, starting_depth, ending_depth, intrpdep, depth_time FROM ABL_Survey  WHERE council_sablefish_management_area = 'West Yakutat' AND soak_time IS NOT NULL ORDER BY year\")\n",
        "ml1 = q1\n",
        "linear_regression(ml1)"
      ],
      "metadata": {
        "colab": {
          "base_uri": "https://localhost:8080/",
          "height": 653
        },
        "outputId": "f1d87d85-cdd0-4558-b889-ac7c1dae3a36",
        "id": "spUWfXsNpyl8"
      },
      "execution_count": null,
      "outputs": [
        {
          "output_type": "stream",
          "name": "stdout",
          "text": [
            "Mean Squared Error (MSE): 34.20927553126478\n",
            "Root Mean Squared Error (RMSE): 5.8488695943117746\n",
            "Mean Absolute Error (MAE): 4.235607963605795\n",
            "R-squared (R2): 0.0682659069650251\n",
            "+----------------+\n",
            "|avg(prediction) |\n",
            "+----------------+\n",
            "|3.89882280293675|\n",
            "+----------------+\n",
            "\n",
            "+-----------------+\n",
            "|avg(prediction)  |\n",
            "+-----------------+\n",
            "|3.832501655186611|\n",
            "+-----------------+\n",
            "\n",
            "+-----------------+\n",
            "|avg(prediction)  |\n",
            "+-----------------+\n",
            "|3.766180507436521|\n",
            "+-----------------+\n",
            "\n",
            "+------------------+\n",
            "|avg(prediction)   |\n",
            "+------------------+\n",
            "|3.6998593596863607|\n",
            "+------------------+\n",
            "\n",
            "+-----------------+\n",
            "|avg(prediction)  |\n",
            "+-----------------+\n",
            "|3.633538211936284|\n",
            "+-----------------+\n",
            "\n"
          ]
        },
        {
          "output_type": "execute_result",
          "data": {
            "text/plain": [
              "'Executed...'"
            ],
            "application/vnd.google.colaboratory.intrinsic+json": {
              "type": "string"
            }
          },
          "metadata": {},
          "execution_count": 24
        }
      ]
    },
    {
      "cell_type": "code",
      "source": [
        "# ALEUTIANS\n",
        "q1 = spark.sql(\"SELECT year ,catch_freq, distance_fished, hachi, soak_time, starting_depth, ending_depth, intrpdep, depth_time FROM ABL_Survey  WHERE council_sablefish_management_area = 'Aleutians' AND soak_time IS NOT NULL ORDER BY year\")\n",
        "ml1 = q1\n",
        "linear_regression(ml1)"
      ],
      "metadata": {
        "colab": {
          "base_uri": "https://localhost:8080/",
          "height": 653
        },
        "outputId": "517f0990-d9dd-4193-cac6-d2d79f53f8eb",
        "id": "cqbJzAgVpyl9"
      },
      "execution_count": null,
      "outputs": [
        {
          "output_type": "stream",
          "name": "stdout",
          "text": [
            "Mean Squared Error (MSE): 35.96564614197852\n",
            "Root Mean Squared Error (RMSE): 5.997136495193228\n",
            "Mean Absolute Error (MAE): 4.235873280480026\n",
            "R-squared (R2): 0.0033156858360682273\n",
            "+-----------------+\n",
            "|avg(prediction)  |\n",
            "+-----------------+\n",
            "|4.297422720280335|\n",
            "+-----------------+\n",
            "\n",
            "+-----------------+\n",
            "|avg(prediction)  |\n",
            "+-----------------+\n",
            "|4.277409090511644|\n",
            "+-----------------+\n",
            "\n",
            "+-----------------+\n",
            "|avg(prediction)  |\n",
            "+-----------------+\n",
            "|4.257395460742889|\n",
            "+-----------------+\n",
            "\n",
            "+-----------------+\n",
            "|avg(prediction)  |\n",
            "+-----------------+\n",
            "|4.237381830973991|\n",
            "+-----------------+\n",
            "\n",
            "+-----------------+\n",
            "|avg(prediction)  |\n",
            "+-----------------+\n",
            "|4.217368201205287|\n",
            "+-----------------+\n",
            "\n"
          ]
        },
        {
          "output_type": "execute_result",
          "data": {
            "text/plain": [
              "'Executed...'"
            ],
            "application/vnd.google.colaboratory.intrinsic+json": {
              "type": "string"
            }
          },
          "metadata": {},
          "execution_count": 25
        }
      ]
    },
    {
      "cell_type": "code",
      "source": [
        "# BERING SEA\n",
        "q1 = spark.sql(\"SELECT year ,catch_freq, distance_fished, hachi, soak_time, starting_depth, ending_depth, intrpdep, depth_time FROM ABL_Survey  WHERE council_sablefish_management_area = 'Bering Sea' AND soak_time IS NOT NULL ORDER BY year\")\n",
        "ml1 = q1\n",
        "linear_regression(ml1)"
      ],
      "metadata": {
        "colab": {
          "base_uri": "https://localhost:8080/",
          "height": 653
        },
        "outputId": "96dc598a-e1eb-44ef-fb60-769b21ae37a5",
        "id": "NOTIUWwBpyl9"
      },
      "execution_count": null,
      "outputs": [
        {
          "output_type": "stream",
          "name": "stdout",
          "text": [
            "Mean Squared Error (MSE): 28.800619647382113\n",
            "Root Mean Squared Error (RMSE): 5.3666208779251505\n",
            "Mean Absolute Error (MAE): 3.7847744712021125\n",
            "R-squared (R2): 0.01375827501044935\n",
            "+-----------------+\n",
            "|avg(prediction)  |\n",
            "+-----------------+\n",
            "|3.698594562889349|\n",
            "+-----------------+\n",
            "\n",
            "+-----------------+\n",
            "|avg(prediction)  |\n",
            "+-----------------+\n",
            "|3.663351168608623|\n",
            "+-----------------+\n",
            "\n",
            "+------------------+\n",
            "|avg(prediction)   |\n",
            "+------------------+\n",
            "|3.6281077743278956|\n",
            "+------------------+\n",
            "\n",
            "+------------------+\n",
            "|avg(prediction)   |\n",
            "+------------------+\n",
            "|3.5928643800471884|\n",
            "+------------------+\n",
            "\n",
            "+-----------------+\n",
            "|avg(prediction)  |\n",
            "+-----------------+\n",
            "|3.557620985766486|\n",
            "+-----------------+\n",
            "\n"
          ]
        },
        {
          "output_type": "execute_result",
          "data": {
            "text/plain": [
              "'Executed...'"
            ],
            "application/vnd.google.colaboratory.intrinsic+json": {
              "type": "string"
            }
          },
          "metadata": {},
          "execution_count": 26
        }
      ]
    },
    {
      "cell_type": "code",
      "source": [
        "# EAST YAKUTAT / SOUTHEAST\n",
        "q1 = spark.sql(\"SELECT year ,catch_freq, distance_fished, hachi, soak_time, starting_depth, ending_depth, intrpdep, depth_time FROM ABL_Survey  WHERE council_sablefish_management_area = 'East Yakutat/Southeast' AND soak_time IS NOT NULL ORDER BY year\")\n",
        "ml1 = q1\n",
        "linear_regression(ml1)"
      ],
      "metadata": {
        "colab": {
          "base_uri": "https://localhost:8080/",
          "height": 653
        },
        "outputId": "97b04202-501d-4081-b389-b12bfc1c6ebf",
        "id": "RhNcwXvMpyl9"
      },
      "execution_count": null,
      "outputs": [
        {
          "output_type": "stream",
          "name": "stdout",
          "text": [
            "Mean Squared Error (MSE): 34.28599542393624\n",
            "Root Mean Squared Error (RMSE): 5.855424444387976\n",
            "Mean Absolute Error (MAE): 4.250325772656301\n",
            "R-squared (R2): 0.05523155368018484\n",
            "+------------------+\n",
            "|avg(prediction)   |\n",
            "+------------------+\n",
            "|3.0944797821949037|\n",
            "+------------------+\n",
            "\n",
            "+------------------+\n",
            "|avg(prediction)   |\n",
            "+------------------+\n",
            "|2.9995790024393214|\n",
            "+------------------+\n",
            "\n",
            "+------------------+\n",
            "|avg(prediction)   |\n",
            "+------------------+\n",
            "|2.9046782226837897|\n",
            "+------------------+\n",
            "\n",
            "+------------------+\n",
            "|avg(prediction)   |\n",
            "+------------------+\n",
            "|2.8097774429282403|\n",
            "+------------------+\n",
            "\n",
            "+-----------------+\n",
            "|avg(prediction)  |\n",
            "+-----------------+\n",
            "|2.714876663172699|\n",
            "+-----------------+\n",
            "\n"
          ]
        },
        {
          "output_type": "execute_result",
          "data": {
            "text/plain": [
              "'Executed...'"
            ],
            "application/vnd.google.colaboratory.intrinsic+json": {
              "type": "string"
            }
          },
          "metadata": {},
          "execution_count": 27
        }
      ]
    },
    {
      "cell_type": "code",
      "source": [
        "# WESTERN GULF OF ALASKA\n",
        "q1 = spark.sql(\"SELECT year ,catch_freq, distance_fished, hachi, soak_time, starting_depth, ending_depth, intrpdep, depth_time FROM ABL_Survey  WHERE council_sablefish_management_area = 'Western Gulf of Alaska' AND soak_time IS NOT NULL ORDER BY year\")\n",
        "ml1 = q1\n",
        "linear_regression(ml1)"
      ],
      "metadata": {
        "colab": {
          "base_uri": "https://localhost:8080/",
          "height": 653
        },
        "outputId": "6fe511aa-901f-4731-bfca-3c392e54ebd0",
        "id": "tJGx7fIupyl9"
      },
      "execution_count": null,
      "outputs": [
        {
          "output_type": "stream",
          "name": "stdout",
          "text": [
            "Mean Squared Error (MSE): 49.12391101968027\n",
            "Root Mean Squared Error (RMSE): 7.008845198724272\n",
            "Mean Absolute Error (MAE): 5.311962066210129\n",
            "R-squared (R2): 0.019999919050778803\n",
            "+-----------------+\n",
            "|avg(prediction)  |\n",
            "+-----------------+\n",
            "|5.720838873873236|\n",
            "+-----------------+\n",
            "\n",
            "+-----------------+\n",
            "|avg(prediction)  |\n",
            "+-----------------+\n",
            "|5.696470629731763|\n",
            "+-----------------+\n",
            "\n",
            "+------------------+\n",
            "|avg(prediction)   |\n",
            "+------------------+\n",
            "|5.6721023855903265|\n",
            "+------------------+\n",
            "\n",
            "+-----------------+\n",
            "|avg(prediction)  |\n",
            "+-----------------+\n",
            "|5.647734141448842|\n",
            "+-----------------+\n",
            "\n",
            "+-----------------+\n",
            "|avg(prediction)  |\n",
            "+-----------------+\n",
            "|5.623365897307349|\n",
            "+-----------------+\n",
            "\n"
          ]
        },
        {
          "output_type": "execute_result",
          "data": {
            "text/plain": [
              "'Executed...'"
            ],
            "application/vnd.google.colaboratory.intrinsic+json": {
              "type": "string"
            }
          },
          "metadata": {},
          "execution_count": 28
        }
      ]
    },
    {
      "cell_type": "code",
      "source": [
        "# CENTRAL GULF OF ALASKA\n",
        "q1 = spark.sql(\"SELECT year ,catch_freq, distance_fished, hachi, soak_time, starting_depth, ending_depth, intrpdep, depth_time FROM ABL_Survey  WHERE council_sablefish_management_area = 'Central Gulf of Alaska' AND soak_time IS NOT NULL ORDER BY year\")\n",
        "ml1 = q1\n",
        "linear_regression(ml1)"
      ],
      "metadata": {
        "colab": {
          "base_uri": "https://localhost:8080/",
          "height": 653
        },
        "outputId": "c03e63ec-f150-4dfe-88a0-ccbc1b4d1e74",
        "id": "VTxmKuOHpyl-"
      },
      "execution_count": null,
      "outputs": [
        {
          "output_type": "stream",
          "name": "stdout",
          "text": [
            "Mean Squared Error (MSE): 32.71622433056527\n",
            "Root Mean Squared Error (RMSE): 5.719809815943645\n",
            "Mean Absolute Error (MAE): 4.298742868322181\n",
            "R-squared (R2): 0.042015014226782665\n",
            "+-----------------+\n",
            "|avg(prediction)  |\n",
            "+-----------------+\n",
            "|4.686233695758373|\n",
            "+-----------------+\n",
            "\n",
            "+----------------+\n",
            "|avg(prediction) |\n",
            "+----------------+\n",
            "|4.64608446503007|\n",
            "+----------------+\n",
            "\n",
            "+-----------------+\n",
            "|avg(prediction)  |\n",
            "+-----------------+\n",
            "|4.605935234301818|\n",
            "+-----------------+\n",
            "\n",
            "+-----------------+\n",
            "|avg(prediction)  |\n",
            "+-----------------+\n",
            "|4.565786003573546|\n",
            "+-----------------+\n",
            "\n",
            "+------------------+\n",
            "|avg(prediction)   |\n",
            "+------------------+\n",
            "|4.5256367728453455|\n",
            "+------------------+\n",
            "\n"
          ]
        },
        {
          "output_type": "execute_result",
          "data": {
            "text/plain": [
              "'Executed...'"
            ],
            "application/vnd.google.colaboratory.intrinsic+json": {
              "type": "string"
            }
          },
          "metadata": {},
          "execution_count": 29
        }
      ]
    },
    {
      "cell_type": "markdown",
      "source": [
        "### Prediction using Random Forest Regression for different regions"
      ],
      "metadata": {
        "id": "wlfLO3AJpRGQ"
      }
    },
    {
      "cell_type": "code",
      "source": [
        "from pyspark.ml.regression import RandomForestRegressor"
      ],
      "metadata": {
        "id": "GDPAZvbfz3F6"
      },
      "execution_count": null,
      "outputs": []
    },
    {
      "cell_type": "code",
      "source": [
        "def rf(ml1):\n",
        "  ml1 = ml1.withColumn(\"distance_fished\", col(\"distance_fished\").cast(\"float\"))\n",
        "  ml1 = ml1.withColumn(\"catch_freq\", col(\"catch_freq\").cast(\"float\"))\n",
        "  ml1 = ml1.withColumn(\"hachi\", col(\"hachi\").cast(\"float\"))\n",
        "  ml1 = ml1.withColumn(\"year\", col(\"year\").cast(\"float\"))\n",
        "  ml1 = ml1.withColumn(\"soak_time\", col(\"soak_time\").cast(\"float\"))\n",
        "  ml1 = ml1.withColumn(\"starting_depth\", col(\"starting_depth\").cast(\"float\"))\n",
        "  ml1 = ml1.withColumn(\"ending_depth\", col(\"ending_depth\").cast(\"float\"))\n",
        "  ml1 = ml1.withColumn(\"intrpdep\", col(\"intrpdep\").cast(\"float\"))\n",
        "  ml1 = ml1.withColumn(\"depth_time\", col(\"depth_time\").cast(\"float\"))\n",
        "\n",
        "  # Preparing the data\n",
        "  feature_columns = [\"year\", \"distance_fished\",\"hachi\", \"soak_time\", \"starting_depth\", \"ending_depth\"]\n",
        "  assembler = VectorAssembler(inputCols=feature_columns, outputCol=\"features\")\n",
        "  df_assembled = assembler.transform(ml1)\n",
        "\n",
        "  # Selecting features and target variable\n",
        "  data = df_assembled.select(\"features\", \"catch_freq\")\n",
        "\n",
        "  # Splitting the data into training and testing sets\n",
        "  (train_data, test_data) = data.randomSplit([0.8, 0.2], seed=1234)\n",
        "\n",
        "\n",
        "  rf = RandomForestRegressor(labelCol=\"catch_freq\", featuresCol=\"features\")\n",
        "\n",
        "  # Training the model\n",
        "  model = rf.fit(train_data)\n",
        "\n",
        "  # Making predictions on the test set\n",
        "  predictions = model.transform(test_data)\n",
        "\n",
        "  # Evaluating the model\n",
        "  evaluator = RegressionEvaluator(labelCol=\"catch_freq\", predictionCol=\"prediction\", metricName=\"mse\")\n",
        "  mse = evaluator.evaluate(predictions)\n",
        "  print(\"Mean Squared Error (MSE):\", mse)\n",
        "\n",
        "  rmse = evaluator.evaluate(predictions, {evaluator.metricName: \"rmse\"})\n",
        "  print(\"Root Mean Squared Error (RMSE):\", rmse)\n",
        "\n",
        "  mae = evaluator.evaluate(predictions, {evaluator.metricName: \"mae\"})\n",
        "  print(\"Mean Absolute Error (MAE):\", mae)\n",
        "\n",
        "  r2 = evaluator.evaluate(predictions, {evaluator.metricName: \"r2\"})\n",
        "  print(\"R-squared (R2):\", r2)\n",
        "\n",
        "\n",
        "  # Creating new data with years to predict\n",
        "  years_to_predict = [2018.0, 2019.0, 2020.0, 2021.0, 2022.0]\n",
        "  for year in years_to_predict:\n",
        "      new_data_df = spark.createDataFrame([(year,) for _ in range(len(years_to_predict))], [\"year\"])\n",
        "\n",
        "      # Cross join with other relevant columns\n",
        "      new_data_df = new_data_df.crossJoin(ml1.select(\"distance_fished\", \"hachi\", \"soak_time\", \"starting_depth\", \"ending_depth\"))\n",
        "\n",
        "      df_assembled_new = assembler.transform(new_data_df)\n",
        "\n",
        "      data_new = df_assembled_new.select(\"features\")\n",
        "\n",
        "      predictions = model.transform(data_new)\n",
        "\n",
        "      predictions.createOrReplaceTempView(\"pred\")\n",
        "\n",
        "      random_row = spark.sql(\"SELECT AVG(prediction) FROM pred \")\n",
        "\n",
        "      random_row.show(truncate=False)\n",
        "\n",
        "  return \"Executed...\""
      ],
      "metadata": {
        "id": "x5GoP6DBpofe"
      },
      "execution_count": null,
      "outputs": []
    },
    {
      "cell_type": "code",
      "source": [
        "# WEST YAKUTAT\n",
        "q1 = spark.sql(\"SELECT year ,catch_freq, distance_fished, hachi, soak_time, starting_depth, ending_depth, intrpdep, depth_time FROM ABL_Survey  WHERE council_sablefish_management_area = 'West Yakutat' AND soak_time IS NOT NULL ORDER BY year\")\n",
        "ml1 = q1\n",
        "rf(ml1)"
      ],
      "metadata": {
        "id": "wMfTfsEapofg"
      },
      "execution_count": null,
      "outputs": []
    },
    {
      "cell_type": "code",
      "source": [
        "# ALEUTIANS\n",
        "q1 = spark.sql(\"SELECT year ,catch_freq, distance_fished, hachi, soak_time, starting_depth, ending_depth, intrpdep, depth_time FROM ABL_Survey  WHERE council_sablefish_management_area = 'Aleutians' AND soak_time IS NOT NULL ORDER BY year\")\n",
        "ml1 = q1\n",
        "rf(ml1)"
      ],
      "metadata": {
        "id": "xLwWsUGBpofh"
      },
      "execution_count": null,
      "outputs": []
    },
    {
      "cell_type": "code",
      "source": [
        "# BERING SEA\n",
        "q1 = spark.sql(\"SELECT year ,catch_freq, distance_fished, hachi, soak_time, starting_depth, ending_depth, intrpdep, depth_time FROM ABL_Survey  WHERE council_sablefish_management_area = 'Bering Sea' AND soak_time IS NOT NULL ORDER BY year\")\n",
        "ml1 = q1\n",
        "rf(ml1)"
      ],
      "metadata": {
        "id": "GdQlyT-upofh"
      },
      "execution_count": null,
      "outputs": []
    },
    {
      "cell_type": "code",
      "source": [
        "# EAST YAKUTAT/ SOUTHEAST\n",
        "q1 = spark.sql(\"SELECT year ,catch_freq, distance_fished, hachi, soak_time, starting_depth, ending_depth, intrpdep, depth_time FROM ABL_Survey  WHERE council_sablefish_management_area = 'East Yakutat/Southeast' AND soak_time IS NOT NULL ORDER BY year\")\n",
        "ml1 = q1\n",
        "rf(ml1)"
      ],
      "metadata": {
        "id": "pahPIAlvpofh"
      },
      "execution_count": null,
      "outputs": []
    },
    {
      "cell_type": "code",
      "source": [
        "# WESTERN GULF OF ALASKA\n",
        "q1 = spark.sql(\"SELECT year ,catch_freq, distance_fished, hachi, soak_time, starting_depth, ending_depth, intrpdep, depth_time FROM ABL_Survey  WHERE council_sablefish_management_area = 'Western Gulf of Alaska' AND soak_time IS NOT NULL ORDER BY year\")\n",
        "ml1 = q1\n",
        "rf(ml1)"
      ],
      "metadata": {
        "id": "ioeclK0Xpofh"
      },
      "execution_count": null,
      "outputs": []
    },
    {
      "cell_type": "code",
      "source": [
        "# CENTRAL GULF OF ALASKA\n",
        "q1 = spark.sql(\"SELECT year ,catch_freq, distance_fished, hachi, soak_time, starting_depth, ending_depth, intrpdep, depth_time FROM ABL_Survey  WHERE council_sablefish_management_area = 'Central Gulf of Alaska' AND soak_time IS NOT NULL ORDER BY year\")\n",
        "ml1 = q1\n",
        "rf(ml1)"
      ],
      "metadata": {
        "id": "dbYFm9Ukpofi"
      },
      "execution_count": null,
      "outputs": []
    },
    {
      "cell_type": "markdown",
      "source": [
        "### Prediction using GBT Regressor for different regions"
      ],
      "metadata": {
        "id": "B-DwBNZfaDvH"
      }
    },
    {
      "cell_type": "code",
      "source": [
        "def gbt_regression(ml1):\n",
        "  ml1 = ml1.withColumn(\"distance_fished\", col(\"distance_fished\").cast(\"float\"))\n",
        "  ml1 = ml1.withColumn(\"catch_freq\", col(\"catch_freq\").cast(\"float\"))\n",
        "  ml1 = ml1.withColumn(\"hachi\", col(\"hachi\").cast(\"float\"))\n",
        "  ml1 = ml1.withColumn(\"year\", col(\"year\").cast(\"float\"))\n",
        "  ml1 = ml1.withColumn(\"soak_time\", col(\"soak_time\").cast(\"float\"))\n",
        "  ml1 = ml1.withColumn(\"starting_depth\", col(\"starting_depth\").cast(\"float\"))\n",
        "  ml1 = ml1.withColumn(\"ending_depth\", col(\"ending_depth\").cast(\"float\"))\n",
        "  ml1 = ml1.withColumn(\"intrpdep\", col(\"intrpdep\").cast(\"float\"))\n",
        "  ml1 = ml1.withColumn(\"depth_time\", col(\"depth_time\").cast(\"float\"))\n",
        "\n",
        "  # Preparing the data\n",
        "  feature_columns = [\"year\", \"distance_fished\",\"hachi\", \"soak_time\", \"starting_depth\", \"ending_depth\"]\n",
        "  assembler = VectorAssembler(inputCols=feature_columns, outputCol=\"features\")\n",
        "  df_assembled = assembler.transform(ml1)\n",
        "\n",
        "  # Selecting features and target variable\n",
        "  data = df_assembled.select(\"features\", \"catch_freq\")\n",
        "\n",
        "  # Splitting the data into training and testing sets\n",
        "  (train_data, test_data) = data.randomSplit([0.8, 0.2], seed=1234)\n",
        "\n",
        "  # Using GBT Regression model\n",
        "  gbt = GBTRegressor(labelCol=\"catch_freq\", featuresCol=\"features\", maxIter=10)\n",
        "\n",
        "  # Training the model\n",
        "  model = gbt.fit(train_data)\n",
        "\n",
        "  # Making predictions on the test set\n",
        "  predictions = model.transform(test_data)\n",
        "\n",
        "  # Evaluating the model\n",
        "  evaluator = RegressionEvaluator(labelCol=\"catch_freq\", predictionCol=\"prediction\", metricName=\"mse\")\n",
        "  mse = evaluator.evaluate(predictions)\n",
        "  print(\"Mean Squared Error (MSE):\", mse)\n",
        "\n",
        "  rmse = evaluator.evaluate(predictions, {evaluator.metricName: \"rmse\"})\n",
        "  print(\"Root Mean Squared Error (RMSE):\", rmse)\n",
        "\n",
        "  mae = evaluator.evaluate(predictions, {evaluator.metricName: \"mae\"})\n",
        "  print(\"Mean Absolute Error (MAE):\", mae)\n",
        "\n",
        "  r2 = evaluator.evaluate(predictions, {evaluator.metricName: \"r2\"})\n",
        "  print(\"R-squared (R2):\", r2)\n",
        "\n",
        "\n",
        "  # Creating new data with years to predict\n",
        "  years_to_predict = [2018.0, 2019.0, 2020.0, 2021.0, 2022.0]\n",
        "  for year in years_to_predict:\n",
        "      new_data_df = spark.createDataFrame([(year,) for _ in range(len(years_to_predict))], [\"year\"])\n",
        "\n",
        "      # Cross join with other relevant columns\n",
        "      new_data_df = new_data_df.crossJoin(ml1.select(\"distance_fished\", \"hachi\", \"soak_time\", \"starting_depth\", \"ending_depth\"))\n",
        "\n",
        "      df_assembled_new = assembler.transform(new_data_df)\n",
        "\n",
        "      data_new = df_assembled_new.select(\"features\")\n",
        "\n",
        "      predictions = model.transform(data_new)\n",
        "\n",
        "\n",
        "      predictions.createOrReplaceTempView(\"pred\")\n",
        "\n",
        "      random_row = spark.sql(\"SELECT AVG(prediction) FROM pred \")\n",
        "\n",
        "      random_row.show(truncate=False)\n",
        "\n",
        "  return \"Executed...\""
      ],
      "metadata": {
        "id": "4KgVKShIbPnn"
      },
      "execution_count": null,
      "outputs": []
    },
    {
      "cell_type": "code",
      "source": [
        "# WEST YAKUTAT\n",
        "q1 = spark.sql(\"SELECT year ,catch_freq, distance_fished, hachi, soak_time, starting_depth, ending_depth, intrpdep, depth_time FROM ABL_Survey  WHERE council_sablefish_management_area = 'West Yakutat' AND soak_time IS NOT NULL ORDER BY year\")\n",
        "ml1 = q1\n",
        "df = gbt_regression(ml1)"
      ],
      "metadata": {
        "id": "AeItmicaaNV_"
      },
      "execution_count": null,
      "outputs": []
    },
    {
      "cell_type": "code",
      "source": [
        "# ALEUTIANS\n",
        "q1 = spark.sql(\"SELECT year ,catch_freq, distance_fished, hachi, soak_time, starting_depth, ending_depth, intrpdep, depth_time FROM ABL_Survey  WHERE council_sablefish_management_area = 'Aleutians' AND soak_time IS NOT NULL ORDER BY year\")\n",
        "ml1 = q1\n",
        "gbt_regression(ml1)"
      ],
      "metadata": {
        "id": "_blzER4kaNRK"
      },
      "execution_count": null,
      "outputs": []
    },
    {
      "cell_type": "code",
      "source": [
        "# BERING SEA\n",
        "q1 = spark.sql(\"SELECT year ,catch_freq, distance_fished, hachi, soak_time, starting_depth, ending_depth, intrpdep, depth_time FROM ABL_Survey  WHERE council_sablefish_management_area = 'Bering Sea' AND soak_time IS NOT NULL ORDER BY year\")\n",
        "ml1 = q1\n",
        "gbt_regression(ml1)"
      ],
      "metadata": {
        "id": "7uI0LWWKc5B6"
      },
      "execution_count": null,
      "outputs": []
    },
    {
      "cell_type": "code",
      "source": [
        "# EAST YAKUTAT/ SOUTHEAST\n",
        "q1 = spark.sql(\"SELECT year ,catch_freq, distance_fished, hachi, soak_time, starting_depth, ending_depth, intrpdep, depth_time FROM ABL_Survey  WHERE council_sablefish_management_area = 'East Yakutat/Southeast' AND soak_time IS NOT NULL ORDER BY year\")\n",
        "ml1 = q1\n",
        "gbt_regression(ml1)"
      ],
      "metadata": {
        "id": "KfPXseaR_P4b"
      },
      "execution_count": null,
      "outputs": []
    },
    {
      "cell_type": "code",
      "source": [
        "# WESTERN GULF OF ALASKA\n",
        "q1 = spark.sql(\"SELECT year ,catch_freq, distance_fished, hachi, soak_time, starting_depth, ending_depth, intrpdep, depth_time FROM ABL_Survey  WHERE council_sablefish_management_area = 'Western Gulf of Alaska' AND soak_time IS NOT NULL ORDER BY year\")\n",
        "ml1 = q1\n",
        "gbt_regression(ml1)"
      ],
      "metadata": {
        "id": "pW0NPVsU_PzK"
      },
      "execution_count": null,
      "outputs": []
    },
    {
      "cell_type": "code",
      "source": [
        "# CENTRAL GULF OF ALASKA\n",
        "q1 = spark.sql(\"SELECT year ,catch_freq, distance_fished, hachi, soak_time, starting_depth, ending_depth, intrpdep, depth_time FROM ABL_Survey  WHERE council_sablefish_management_area = 'Central Gulf of Alaska' AND soak_time IS NOT NULL ORDER BY year\")\n",
        "ml1 = q1\n",
        "gbt_regression(ml1)"
      ],
      "metadata": {
        "id": "bZzKr0k6_Prs"
      },
      "execution_count": null,
      "outputs": []
    },
    {
      "cell_type": "markdown",
      "source": [
        "### Prediction Using Generalized Linear Regression model"
      ],
      "metadata": {
        "id": "B8UiIyP3n4c0"
      }
    },
    {
      "cell_type": "code",
      "source": [
        "def glm(ml1):\n",
        "  ml1 = ml1.withColumn(\"distance_fished\", col(\"distance_fished\").cast(\"float\"))\n",
        "  ml1 = ml1.withColumn(\"catch_freq\", col(\"catch_freq\").cast(\"float\"))\n",
        "  ml1 = ml1.withColumn(\"hachi\", col(\"hachi\").cast(\"float\"))\n",
        "  ml1 = ml1.withColumn(\"year\", col(\"year\").cast(\"float\"))\n",
        "  ml1 = ml1.withColumn(\"soak_time\", col(\"soak_time\").cast(\"float\"))\n",
        "  ml1 = ml1.withColumn(\"starting_depth\", col(\"starting_depth\").cast(\"float\"))\n",
        "  ml1 = ml1.withColumn(\"ending_depth\", col(\"ending_depth\").cast(\"float\"))\n",
        "  ml1 = ml1.withColumn(\"intrpdep\", col(\"intrpdep\").cast(\"float\"))\n",
        "  ml1 = ml1.withColumn(\"depth_time\", col(\"depth_time\").cast(\"float\"))\n",
        "\n",
        "  # Preparing the data\n",
        "  feature_columns = [\"year\", \"distance_fished\",\"hachi\", \"soak_time\", \"starting_depth\", \"ending_depth\"]\n",
        "  assembler = VectorAssembler(inputCols=feature_columns, outputCol=\"features\")\n",
        "  df_assembled = assembler.transform(ml1)\n",
        "\n",
        "  # Selecting features and target variable\n",
        "  data = df_assembled.select(\"features\", \"catch_freq\")\n",
        "\n",
        "  # Splitting the data into training and testing sets\n",
        "  (train_data, test_data) = data.randomSplit([0.8, 0.2], seed=1234)\n",
        "\n",
        "  # Using GBT Regression model\n",
        "  glr = GeneralizedLinearRegression(labelCol=\"catch_freq\", featuresCol=\"features\", family=\"gaussian\", link=\"identity\")\n",
        "\n",
        "  # Training the model\n",
        "  model = glr.fit(train_data)\n",
        "\n",
        "  # Making predictions on the test set\n",
        "  predictions = model.transform(test_data)\n",
        "\n",
        "  # Evaluating the model\n",
        "  evaluator = RegressionEvaluator(labelCol=\"catch_freq\", predictionCol=\"prediction\", metricName=\"mse\")\n",
        "  mse = evaluator.evaluate(predictions)\n",
        "  print(\"Mean Squared Error (MSE):\", mse)\n",
        "\n",
        "  rmse = evaluator.evaluate(predictions, {evaluator.metricName: \"rmse\"})\n",
        "  print(\"Root Mean Squared Error (RMSE):\", rmse)\n",
        "\n",
        "  mae = evaluator.evaluate(predictions, {evaluator.metricName: \"mae\"})\n",
        "  print(\"Mean Absolute Error (MAE):\", mae)\n",
        "\n",
        "  r2 = evaluator.evaluate(predictions, {evaluator.metricName: \"r2\"})\n",
        "  print(\"R-squared (R2):\", r2)\n",
        "\n",
        "  # Creating new data with years to predict\n",
        "  # Creating new data with years to predict\n",
        "  years_to_predict = [2018.0, 2019.0, 2020.0, 2021.0, 2022.0]\n",
        "  for year in years_to_predict:\n",
        "      new_data_df = spark.createDataFrame([(year,) for _ in range(len(years_to_predict))], [\"year\"])\n",
        "\n",
        "      # Cross join with other relevant columns\n",
        "      new_data_df = new_data_df.crossJoin(ml1.select(\"distance_fished\", \"hachi\", \"soak_time\", \"starting_depth\", \"ending_depth\"))\n",
        "\n",
        "      df_assembled_new = assembler.transform(new_data_df)\n",
        "\n",
        "      data_new = df_assembled_new.select(\"features\")\n",
        "\n",
        "      predictions = model.transform(data_new)\n",
        "\n",
        "      predictions.createOrReplaceTempView(\"pred\")\n",
        "\n",
        "\n",
        "      random_row = spark.sql(\"SELECT AVG(prediction) FROM pred \")\n",
        "\n",
        "\n",
        "      random_row.show(truncate=False)\n",
        "\n",
        "  return \"Executed...\""
      ],
      "metadata": {
        "id": "CcVXyrBMoEsy"
      },
      "execution_count": null,
      "outputs": []
    },
    {
      "cell_type": "code",
      "source": [
        "# WEST YAKUTAT\n",
        "q1 = spark.sql(\"SELECT year ,catch_freq, distance_fished, hachi, soak_time, starting_depth, ending_depth, intrpdep, depth_time FROM ABL_Survey  WHERE council_sablefish_management_area = 'West Yakutat' AND soak_time IS NOT NULL ORDER BY year\")\n",
        "ml1 = q1\n",
        "glm(ml1)"
      ],
      "metadata": {
        "id": "cEUvhGiCokHN"
      },
      "execution_count": null,
      "outputs": []
    },
    {
      "cell_type": "code",
      "source": [
        "# ALEUTIANS\n",
        "q1 = spark.sql(\"SELECT year ,catch_freq, distance_fished, hachi, soak_time, starting_depth, ending_depth, intrpdep, depth_time FROM ABL_Survey  WHERE council_sablefish_management_area = 'Aleutians' AND soak_time IS NOT NULL ORDER BY year\")\n",
        "ml1 = q1\n",
        "glm(ml1)"
      ],
      "metadata": {
        "id": "vI6g_mUTokHX"
      },
      "execution_count": null,
      "outputs": []
    },
    {
      "cell_type": "code",
      "source": [
        "# BERING SEA\n",
        "q1 = spark.sql(\"SELECT year ,catch_freq, distance_fished, hachi, soak_time, starting_depth, ending_depth, intrpdep, depth_time FROM ABL_Survey  WHERE council_sablefish_management_area = 'Bering Sea' AND soak_time IS NOT NULL ORDER BY year\")\n",
        "ml1 = q1\n",
        "glm(ml1)"
      ],
      "metadata": {
        "id": "C_ETml7EokHX"
      },
      "execution_count": null,
      "outputs": []
    },
    {
      "cell_type": "code",
      "source": [
        "# EAST YAKUTAT/SOUTHEAST\n",
        "q1 = spark.sql(\"SELECT year ,catch_freq, distance_fished, hachi, soak_time, starting_depth, ending_depth, intrpdep, depth_time FROM ABL_Survey  WHERE council_sablefish_management_area = 'East Yakutat/Southeast' AND soak_time IS NOT NULL ORDER BY year\")\n",
        "ml1 = q1\n",
        "glm(ml1)"
      ],
      "metadata": {
        "id": "xoCpRgNOokHY"
      },
      "execution_count": null,
      "outputs": []
    },
    {
      "cell_type": "code",
      "source": [
        "# WESTERN GULF OF ALASKA\n",
        "q1 = spark.sql(\"SELECT year ,catch_freq, distance_fished, hachi, soak_time, starting_depth, ending_depth, intrpdep, depth_time FROM ABL_Survey  WHERE council_sablefish_management_area = 'Western Gulf of Alaska' AND soak_time IS NOT NULL ORDER BY year\")\n",
        "ml1 = q1\n",
        "glm(ml1)"
      ],
      "metadata": {
        "id": "K9vnQu34okHY"
      },
      "execution_count": null,
      "outputs": []
    },
    {
      "cell_type": "code",
      "source": [
        "# CENTRAL GULF OF ALASKA\n",
        "q1 = spark.sql(\"SELECT year ,catch_freq, distance_fished, hachi, soak_time, starting_depth, ending_depth, intrpdep, depth_time FROM ABL_Survey  WHERE council_sablefish_management_area = 'Central Gulf of Alaska' AND soak_time IS NOT NULL ORDER BY year\")\n",
        "ml1 = q1\n",
        "glm(ml1)"
      ],
      "metadata": {
        "id": "Rnn7Gm30okHZ"
      },
      "execution_count": null,
      "outputs": []
    },
    {
      "cell_type": "markdown",
      "source": [
        "### Surface temp vs Catch freq\n"
      ],
      "metadata": {
        "id": "XrilUioWJDav"
      }
    },
    {
      "cell_type": "code",
      "source": [
        "q1 = spark.sql(\"SELECT catch_freq, surface_temperature FROM ABL_Survey WHERE surface_temperature IS NOT NULL\")\n",
        "q1.show()\n",
        "ml1 = q1"
      ],
      "metadata": {
        "colab": {
          "base_uri": "https://localhost:8080/"
        },
        "id": "bgbzmUVIiIyC",
        "outputId": "73a71c2f-3fa7-45d6-d4c7-99b02f3515e5"
      },
      "execution_count": null,
      "outputs": [
        {
          "output_type": "stream",
          "name": "stdout",
          "text": [
            "+----------+-------------------+\n",
            "|catch_freq|surface_temperature|\n",
            "+----------+-------------------+\n",
            "|       1.0|                7.5|\n",
            "|      12.0|                7.5|\n",
            "|       1.0|                7.5|\n",
            "|       2.0|                7.5|\n",
            "|       1.0|                7.5|\n",
            "|      11.0|                7.5|\n",
            "|       3.0|                7.5|\n",
            "|      11.0|                7.5|\n",
            "|       5.0|                7.5|\n",
            "|       5.0|                7.5|\n",
            "|       1.0|                7.5|\n",
            "|       2.0|                7.5|\n",
            "|       1.0|                7.5|\n",
            "|      11.0|                7.5|\n",
            "|       1.0|                7.5|\n",
            "|      12.0|                7.5|\n",
            "|       5.0|                7.5|\n",
            "|       8.0|                7.5|\n",
            "|       2.0|                7.5|\n",
            "|       2.0|                7.5|\n",
            "+----------+-------------------+\n",
            "only showing top 20 rows\n",
            "\n"
          ]
        }
      ]
    },
    {
      "cell_type": "code",
      "source": [
        "def parsePoint(row):\n",
        "    catch_freq = float(row['catch_freq'])\n",
        "    surface_temperature = float(row['surface_temperature'])\n",
        "    #distance_fished = float(row['distance_fished'])\n",
        "    #soak_time = (row['soak_time'])\n",
        "    #depth = float(row['depth'])\n",
        "\n",
        "    label = catch_freq\n",
        "    features = ([surface_temperature])\n",
        "\n",
        "    return LabeledPoint(label, features)"
      ],
      "metadata": {
        "id": "udOF9IkZibjq"
      },
      "execution_count": null,
      "outputs": []
    },
    {
      "cell_type": "code",
      "source": [
        " ml1 = ml1.rdd\n",
        " ml1 = ml1.map(parsePoint)\n"
      ],
      "metadata": {
        "id": "m6-i4EzI1Ms9"
      },
      "execution_count": null,
      "outputs": []
    },
    {
      "cell_type": "code",
      "source": [
        "train, test = ml1.randomSplit([0.8, 0.2])\n",
        "model = LinearRegressionWithSGD.train(train, iterations=1000, step=0.00000001)"
      ],
      "metadata": {
        "id": "BZjmCCLGpERQ",
        "colab": {
          "base_uri": "https://localhost:8080/"
        },
        "outputId": "7f0449f4-3523-4af9-ac79-108eb1d1c2d5"
      },
      "execution_count": null,
      "outputs": [
        {
          "output_type": "stream",
          "name": "stderr",
          "text": [
            "/content/spark-3.2.0-bin-hadoop3.2/python/pyspark/mllib/regression.py:301: FutureWarning: Deprecated in 2.0.0. Use ml.regression.LinearRegression.\n",
            "  warnings.warn(\n"
          ]
        }
      ]
    },
    {
      "cell_type": "code",
      "source": [
        "Predictions = test.map(lambda x: (x.label, model.predict(x.features)))"
      ],
      "metadata": {
        "id": "OrpoNvr6YcsK"
      },
      "execution_count": null,
      "outputs": []
    },
    {
      "cell_type": "code",
      "source": [
        "SE = Predictions.map(lambda x: (x[0] - x[1])**2)\n",
        "MSE = SE.reduce(lambda x, y: x + y) / Predictions.count()\n",
        "RMSE = sqrt(MSE)\n",
        "print(\"Root Mean Squared Error = \" + str(RMSE))"
      ],
      "metadata": {
        "colab": {
          "base_uri": "https://localhost:8080/"
        },
        "id": "gYqxbcqtYr2o",
        "outputId": "66d69775-47e0-458e-c597-8e6d5525b3f8"
      },
      "execution_count": null,
      "outputs": [
        {
          "output_type": "stream",
          "name": "stdout",
          "text": [
            "Root Mean Squared Error = 7.869262534082909\n"
          ]
        }
      ]
    },
    {
      "cell_type": "code",
      "source": [
        "new_surface_temperature = 7.5\n",
        "model.predict([new_surface_temperature])"
      ],
      "metadata": {
        "colab": {
          "base_uri": "https://localhost:8080/"
        },
        "id": "fKxFMmFBcnDG",
        "outputId": "b2316590-9eb7-452b-9d2f-e13f098e76ac"
      },
      "execution_count": null,
      "outputs": [
        {
          "output_type": "execute_result",
          "data": {
            "text/plain": [
              "6.233860917791361e-06"
            ]
          },
          "metadata": {},
          "execution_count": 47
        }
      ]
    },
    {
      "cell_type": "markdown",
      "source": [
        "### Distance fished vs Catch freq"
      ],
      "metadata": {
        "id": "uTf5A8mUPj1I"
      }
    },
    {
      "cell_type": "code",
      "source": [
        "q1 = spark.sql(\"SELECT catch_freq, distance_fished FROM ABL_Survey\")\n",
        "ml1 = q1\n",
        "print(q1.show(truncate = False))"
      ],
      "metadata": {
        "colab": {
          "base_uri": "https://localhost:8080/"
        },
        "id": "50foLJ6B8cxx",
        "outputId": "b345433b-5159-4c91-8bda-0e191dc467db"
      },
      "execution_count": null,
      "outputs": [
        {
          "output_type": "stream",
          "name": "stdout",
          "text": [
            "+----------+------------------+\n",
            "|catch_freq|distance_fished   |\n",
            "+----------+------------------+\n",
            "|1.0       |8.6000003814697266|\n",
            "|7.0       |8.6000003814697266|\n",
            "|3.0       |8.6000003814697266|\n",
            "|3.0       |8.6000003814697266|\n",
            "|17.0      |8.6000003814697266|\n",
            "|1.0       |8.6000003814697266|\n",
            "|1.0       |8.6000003814697266|\n",
            "|1.0       |8.6000003814697266|\n",
            "|13.0      |8.6000003814697266|\n",
            "|1.0       |8.6000003814697266|\n",
            "|2.0       |8.6000003814697266|\n",
            "|25.0      |8.6000003814697266|\n",
            "|1.0       |8.6000003814697266|\n",
            "|6.0       |8.6000003814697266|\n",
            "|10.0      |8.6000003814697266|\n",
            "|5.0       |8.6000003814697266|\n",
            "|9.0       |8.6000003814697266|\n",
            "|1.0       |8.6000003814697266|\n",
            "|13.0      |8.6000003814697266|\n",
            "|1.0       |8.6000003814697266|\n",
            "+----------+------------------+\n",
            "only showing top 20 rows\n",
            "\n",
            "None\n"
          ]
        }
      ]
    },
    {
      "cell_type": "code",
      "source": [
        "def parsePoint(row):\n",
        "    catch_freq = float(row['catch_freq'])\n",
        "    # Check if 'surface_temperature' is None and handle it accordingly\n",
        "    #surface_temperature = float(row['surface_temperature']) if row['surface_temperature'] is not None else 0.0\n",
        "    distance_fished = float(row['distance_fished'])\n",
        "    #soak_time = (row['soak_time'])\n",
        "    #depth = float(row['depth'])\n",
        "\n",
        "\n",
        "    # Assuming 'catch_freq' is the label\n",
        "    label = catch_freq\n",
        "    features = ([distance_fished])\n",
        "\n",
        "    return LabeledPoint(label, features)\n"
      ],
      "metadata": {
        "id": "BR5JpjphfpSm"
      },
      "execution_count": null,
      "outputs": []
    },
    {
      "cell_type": "code",
      "source": [
        "ml1 = ml1.rdd\n",
        "parsedml1 = ml1.map(parsePoint)\n",
        "train, test = parsedml1.randomSplit([0.8, 0.2])\n",
        "model = LinearRegressionWithSGD.train(train, iterations=1000, step=0.00000001)\n",
        "valuesAndPreds = test.map(lambda x: (x.label, model.predict(x.features)))\n",
        "SE = valuesAndPreds.map(lambda x: (x[0] - x[1])**2)\n",
        "MSE = SE.reduce(lambda x, y: x + y) / valuesAndPreds.count()\n",
        "RMSE = sqrt(MSE)\n",
        "print(\"Root Mean Squared Error = \" + str(RMSE))"
      ],
      "metadata": {
        "id": "SKGb6hJ0f3be",
        "colab": {
          "base_uri": "https://localhost:8080/"
        },
        "outputId": "aa2eaf41-bd22-4a04-a8cb-88c5718f2682"
      },
      "execution_count": null,
      "outputs": [
        {
          "output_type": "stream",
          "name": "stderr",
          "text": [
            "/content/spark-3.2.0-bin-hadoop3.2/python/pyspark/mllib/regression.py:301: FutureWarning: Deprecated in 2.0.0. Use ml.regression.LinearRegression.\n",
            "  warnings.warn(\n"
          ]
        },
        {
          "output_type": "stream",
          "name": "stdout",
          "text": [
            "Root Mean Squared Error = 7.881644305485354\n"
          ]
        }
      ]
    },
    {
      "cell_type": "code",
      "source": [
        "model.predict([9.000])"
      ],
      "metadata": {
        "colab": {
          "base_uri": "https://localhost:8080/"
        },
        "id": "kBHBRSDUd5So",
        "outputId": "b0f629cd-fe31-4cec-b233-0f7271c6abc9"
      },
      "execution_count": null,
      "outputs": [
        {
          "output_type": "execute_result",
          "data": {
            "text/plain": [
              "6.128080347357708e-06"
            ]
          },
          "metadata": {},
          "execution_count": 51
        }
      ]
    },
    {
      "cell_type": "markdown",
      "source": [
        "### Stratum vs catch freq"
      ],
      "metadata": {
        "id": "MCyP8zjGJZss"
      }
    },
    {
      "cell_type": "code",
      "source": [
        "q1 = spark.sql(\"SELECT stratum, stratumdescription, AVG(catch_freq) as Catch FROM ABL_Survey GROUP BY stratum, stratumdescription ORDER BY stratum \")\n",
        "print(q1.show(truncate = False))"
      ],
      "metadata": {
        "colab": {
          "base_uri": "https://localhost:8080/"
        },
        "id": "VNjvPc08JaA_",
        "outputId": "74f14b47-0b24-41e0-d827-8fc4f1c1515c"
      },
      "execution_count": null,
      "outputs": [
        {
          "output_type": "stream",
          "name": "stdout",
          "text": [
            "+-------+------------------+------------------+\n",
            "|stratum|stratumdescription|Catch             |\n",
            "+-------+------------------+------------------+\n",
            "|1      |0-100m            |6.669200144770177 |\n",
            "|2      |101-200m          |4.996531862642849 |\n",
            "|3      |201-300m          |4.197991319269204 |\n",
            "|4      |301-400m          |4.225113314873392 |\n",
            "|5      |401-600m          |5.4844957166673876|\n",
            "|6      |601-800m          |6.466758031430258 |\n",
            "|7      |801-1000m         |6.1130393038078115|\n",
            "|8      |1001-1200m        |5.9008159102498725|\n",
            "|9      |1201m +           |6.675675675675675 |\n",
            "+-------+------------------+------------------+\n",
            "\n",
            "None\n"
          ]
        }
      ]
    },
    {
      "cell_type": "code",
      "source": [
        "viz1 = q1.toPandas()\n",
        "plt.bar(x= viz1['stratum'],height = viz1['Catch'],color='b')\n",
        "plt.title('Stratum vs Catch Freq')\n",
        "plt.xlabel(\"Stratum code\")\n",
        "plt.ylabel('Catch Frequency')\n",
        "plt.xticks(viz1['stratum'])\n",
        "plt.show()"
      ],
      "metadata": {
        "colab": {
          "base_uri": "https://localhost:8080/",
          "height": 472
        },
        "id": "D1S2gKBkeed2",
        "outputId": "9ff2c449-26f8-4d13-d057-d03c108127a9"
      },
      "execution_count": null,
      "outputs": [
        {
          "output_type": "display_data",
          "data": {
            "text/plain": [
              "<Figure size 640x480 with 1 Axes>"
            ],
            "image/png": "[encoded data removed]"
          },
          "metadata": {}
        }
      ]
    },
    {
      "cell_type": "markdown",
      "source": [
        "### Geographic area vs catch freq"
      ],
      "metadata": {
        "id": "qoBMdLxTLgcx"
      }
    },
    {
      "cell_type": "code",
      "source": [
        "q1 = spark.sql(\"SELECT council_sablefish_management_area,geographic_area_name,AVG(catch_freq) FROM ABL_Survey GROUP BY council_sablefish_management_area, geographic_area_name ORDER BY AVG(catch_freq) DESC\")\n",
        "q1.show(40)"
      ],
      "metadata": {
        "colab": {
          "base_uri": "https://localhost:8080/"
        },
        "id": "GKQ1McWxm-yt",
        "outputId": "7554c93f-d26f-4983-c17e-938a26015e21"
      },
      "execution_count": null,
      "outputs": [
        {
          "output_type": "stream",
          "name": "stdout",
          "text": [
            "+---------------------------------+--------------------+------------------+\n",
            "|council_sablefish_management_area|geographic_area_name|   avg(catch_freq)|\n",
            "+---------------------------------+--------------------+------------------+\n",
            "|             Western Gulf of A...|      Shumagin Slope| 6.150852201513171|\n",
            "|             Central Gulf of A...|      Chirikof slope| 5.971107333051388|\n",
            "|             East Yakutat/Sout...|       Spencer Gully| 5.867002024611532|\n",
            "|             Central Gulf of A...|        Kodiak slope|5.7655561627673455|\n",
            "|                        Aleutians|  NW Aleutians slope|   5.7220270020344|\n",
            "|                     West Yakutat|     W Yakutat slope| 5.388402361803308|\n",
            "|             East Yakutat/Sout...|     Southeast slope| 5.361888564550954|\n",
            "|                       Bering Sea|      Bering 4 slope| 5.066280904849327|\n",
            "|             East Yakutat/Sout...|  East Yakutat slope| 4.917345996438105|\n",
            "|             Western Gulf of A...|      Shumagin Gully| 4.853327681220856|\n",
            "|                        Aleutians|  SE Aleutians slope|4.7258253918565485|\n",
            "|                        Aleutians|  NE Aleutians slope|  4.67281336494804|\n",
            "|                       Bering Sea|      Bering 3 slope|  4.53962008543566|\n",
            "|                       Bering Sea|      Bering 2 slope| 4.474249716058831|\n",
            "|                        Aleutians|  SW Aleutians slope| 4.401794902476966|\n",
            "|             Central Gulf of A...|       Amatuli Gully|4.3199600798712865|\n",
            "|             Central Gulf of A...|     Shelikof Trough| 4.312420621854361|\n",
            "|                       Bering Sea|      Bering 5 slope| 4.239875604699378|\n",
            "|                       Bering Sea|      Bering 1 slope|  4.16962995207337|\n",
            "|             East Yakutat/Sout...|      Dixon Entrance|3.9639525762433987|\n",
            "|                     West Yakutat|      Yakutat Valley|  3.56230791611362|\n",
            "|             East Yakutat/Sout...|      Ommaney Trench|3.5354177429536544|\n",
            "|             East Yakutat/Sout...|     Iphigenia Gully|3.2751677852348995|\n",
            "|                     West Yakutat|           W-Grounds| 3.189709706895078|\n",
            "|             East Yakutat/Sout...|        Alsek Strath|3.1349036402569594|\n",
            "|             East Yakutat/Sout...|     Southeast Shelf|2.9000360014396107|\n",
            "+---------------------------------+--------------------+------------------+\n",
            "\n"
          ]
        }
      ]
    },
    {
      "cell_type": "code",
      "source": [
        "q1 = spark.sql(\"SELECT geographic_area_name, AVG(catch_freq) FROM ABL_Survey GROUP BY geographic_area_name ORDER BY AVG(catch_freq) DESC\")\n",
        "q1.show(40)"
      ],
      "metadata": {
        "colab": {
          "base_uri": "https://localhost:8080/"
        },
        "id": "6E7jj7zcE2PR",
        "outputId": "a1f8e8a4-7288-461b-856d-745bcb0a859e"
      },
      "execution_count": null,
      "outputs": [
        {
          "output_type": "stream",
          "name": "stdout",
          "text": [
            "+--------------------+------------------+\n",
            "|geographic_area_name|   avg(catch_freq)|\n",
            "+--------------------+------------------+\n",
            "|      Shumagin Slope| 6.150852201455093|\n",
            "|      Chirikof slope| 5.971107332915743|\n",
            "|       Spencer Gully|  5.86700202441568|\n",
            "|        Kodiak slope|5.7655561625489025|\n",
            "|  NW Aleutians slope|   5.7220270020344|\n",
            "|     W Yakutat slope| 5.388402361668971|\n",
            "|     Southeast slope| 5.361888564350945|\n",
            "|      Bering 4 slope| 5.066280904786955|\n",
            "|  East Yakutat slope| 4.917345996142813|\n",
            "|      Shumagin Gully| 4.853327681220856|\n",
            "|  SE Aleutians slope| 4.725825391422736|\n",
            "|  NE Aleutians slope| 4.672813364900463|\n",
            "|      Bering 3 slope| 4.539620085465828|\n",
            "|      Bering 2 slope| 4.474249716064615|\n",
            "|  SW Aleutians slope| 4.401794902476966|\n",
            "|       Amatuli Gully| 4.319960079840319|\n",
            "|     Shelikof Trough| 4.312420621854273|\n",
            "|      Bering 5 slope| 4.239875604699378|\n",
            "|      Bering 1 slope|  4.16962995211145|\n",
            "|      Dixon Entrance|3.9639525760613723|\n",
            "|      Yakutat Valley| 3.562307915337779|\n",
            "|      Ommaney Trench|  3.53541774264034|\n",
            "|     Iphigenia Gully|3.2751677852348995|\n",
            "|           W-Grounds|3.1897097068953397|\n",
            "|        Alsek Strath|3.1349036402569594|\n",
            "|     Southeast Shelf|2.9000360014400575|\n",
            "+--------------------+------------------+\n",
            "\n"
          ]
        }
      ]
    },
    {
      "cell_type": "code",
      "source": [
        "q1 = spark.sql('''SELECT * FROM (\n",
        "                SELECT geographic_area_name, year, common_name, AVG(catch_freq),\n",
        "                  ROW_NUMBER() OVER (PARTITION BY year  ORDER BY AVG(catch_freq) DESC) as rnk\n",
        "                FROM ABL_Survey\n",
        "                        GROUP BY geographic_area_name, common_name, year\n",
        "                            ) WHERE rnk == 1''')\n",
        "q1.show(40)"
      ],
      "metadata": {
        "colab": {
          "base_uri": "https://localhost:8080/"
        },
        "id": "7Bg6O884VmG_",
        "outputId": "393a9b77-fb1b-447e-d954-e035fa4b93ef"
      },
      "execution_count": null,
      "outputs": [
        {
          "output_type": "stream",
          "name": "stdout",
          "text": [
            "+--------------------+----+-----------------+------------------+---+\n",
            "|geographic_area_name|year|      common_name|   avg(catch_freq)|rnk|\n",
            "+--------------------+----+-----------------+------------------+---+\n",
            "|      Bering 2 slope|1979|      Pacific cod|              14.2|  1|\n",
            "|  NW Aleutians slope|1980|  Giant grenadier|14.597051597051598|  1|\n",
            "|      Bering 1 slope|1981|      Pacific cod|16.946360153256705|  1|\n",
            "|      Bering 4 slope|1982|      Pacific cod|15.022018348623853|  1|\n",
            "|      Bering 4 slope|1983|      Pacific cod|13.980108499095842|  1|\n",
            "|      Bering 4 slope|1984|      Pacific cod|12.987117552334944|  1|\n",
            "|      Bering 4 slope|1985|      Pacific cod| 16.58698940998487|  1|\n",
            "|     Southeast slope|1986|        Sablefish| 16.23688524590164|  1|\n",
            "|       Amatuli Gully|1987|        Sablefish|           23.1625|  1|\n",
            "|       Spencer Gully|1988|        Sablefish|          19.75625|  1|\n",
            "|       Spencer Gully|1989|        Sablefish|           24.9625|  1|\n",
            "|       Spencer Gully|1990|        Sablefish|          21.90625|  1|\n",
            "|       Spencer Gully|1991|        Sablefish|          26.05625|  1|\n",
            "|       Spencer Gully|1992|        Sablefish|          23.76875|  1|\n",
            "|       Spencer Gully|1993|        Sablefish|              20.5|  1|\n",
            "|       Spencer Gully|1994|        Sablefish|           17.2875|  1|\n",
            "|     W Yakutat slope|1995|    Spiny dogfish|              23.0|  1|\n",
            "|  SE Aleutians slope|1996|  Giant grenadier|16.467710371819962|  1|\n",
            "|      Chirikof slope|1997|  Giant grenadier|15.617437722419929|  1|\n",
            "|      Shumagin Slope|1998|  Giant grenadier|  18.4645390070922|  1|\n",
            "|       Spencer Gully|1999|        Sablefish|            14.675|  1|\n",
            "|  SE Aleutians slope|2000|  Giant grenadier| 20.78446909667195|  1|\n",
            "|     Shelikof Trough|2001|        Sablefish|        18.3859375|  1|\n",
            "|  SE Aleutians slope|2002|  Giant grenadier|19.894117647058824|  1|\n",
            "|      Bering 2 slope|2003|      Pacific cod|  15.0791788856305|  1|\n",
            "|  SE Aleutians slope|2004|  Giant grenadier|18.897476340694006|  1|\n",
            "|       Spencer Gully|2005|        Sablefish|           16.8875|  1|\n",
            "|      Shumagin Slope|2006|  Giant grenadier|18.137789904502046|  1|\n",
            "|      Shumagin Slope|2007|  Giant grenadier| 19.81772151898734|  1|\n",
            "|      Chirikof slope|2008|Pacific grenadier|15.465116279069768|  1|\n",
            "|      Bering 4 slope|2009|  Giant grenadier|15.797777777777778|  1|\n",
            "|      Chirikof slope|2010|  Giant grenadier|19.977235772357723|  1|\n",
            "|       Spencer Gully|2011|        Sablefish|          19.38125|  1|\n",
            "|      Shumagin Slope|2012|  Giant grenadier| 14.86266531027467|  1|\n",
            "|      Bering 4 slope|2013|  Giant grenadier| 21.00473933649289|  1|\n",
            "|  NE Aleutians slope|2014|  Giant grenadier|18.375806451612902|  1|\n",
            "|      Shumagin Slope|2015|  Giant grenadier|20.292763157894736|  1|\n",
            "|      Shumagin Slope|2016|  Giant grenadier|19.580645161290324|  1|\n",
            "|      Shumagin Slope|2017|  Giant grenadier|20.338907469342253|  1|\n",
            "+--------------------+----+-----------------+------------------+---+\n",
            "\n"
          ]
        }
      ]
    },
    {
      "cell_type": "markdown",
      "source": [
        "### Year vs catch freq"
      ],
      "metadata": {
        "id": "NNi-EqG4LqSd"
      }
    },
    {
      "cell_type": "code",
      "source": [
        "q1 = spark.sql(\"SELECT year, AVG(catch_freq) FROM ABL_Survey GROUP BY year ORDER BY year\")\n",
        "q1.show(40)"
      ],
      "metadata": {
        "id": "LXeYBVluFCBl",
        "colab": {
          "base_uri": "https://localhost:8080/"
        },
        "outputId": "e447317d-0ab4-4301-b014-7db6261d2fb4"
      },
      "execution_count": null,
      "outputs": [
        {
          "output_type": "stream",
          "name": "stdout",
          "text": [
            "+----+------------------+\n",
            "|year|   avg(catch_freq)|\n",
            "+----+------------------+\n",
            "|1979| 4.431853742897142|\n",
            "|1980| 4.685767154037493|\n",
            "|1981| 5.066195478796546|\n",
            "|1982| 4.862999855637361|\n",
            "|1983| 4.960235124265236|\n",
            "|1984| 5.337931319305346|\n",
            "|1985| 5.883925718849841|\n",
            "|1986| 6.125988848406771|\n",
            "|1987|5.8308073794881965|\n",
            "|1988|  6.07618456926516|\n",
            "|1989| 6.126395701050657|\n",
            "|1990| 5.556185235204281|\n",
            "|1991|5.3523779238216385|\n",
            "|1992| 5.386137306469184|\n",
            "|1993|   5.2494017860958|\n",
            "|1994| 4.807869546092458|\n",
            "|1995| 6.191916727657152|\n",
            "|1996|  5.69639441469013|\n",
            "|1997| 5.581457985531442|\n",
            "|1998| 4.965032894040996|\n",
            "|1999| 5.080092525661414|\n",
            "|2000| 4.840187015194984|\n",
            "|2001| 4.990789752276096|\n",
            "|2002| 4.854879622624717|\n",
            "|2003| 4.918318589784981|\n",
            "|2004| 4.950361242956347|\n",
            "|2005| 4.628176549264378|\n",
            "|2006| 4.881262492038042|\n",
            "|2007| 4.821832807826016|\n",
            "|2008| 4.359080298303964|\n",
            "|2009| 4.512683830478999|\n",
            "|2010| 4.997409482498946|\n",
            "|2011| 4.910060541648479|\n",
            "|2012| 4.252401075681905|\n",
            "|2013| 4.131750209111125|\n",
            "|2014| 4.313313476682035|\n",
            "|2015| 4.682934315531001|\n",
            "|2016|4.6367527053397195|\n",
            "|2017| 4.693958136067852|\n",
            "+----+------------------+\n",
            "\n"
          ]
        }
      ]
    },
    {
      "cell_type": "code",
      "source": [
        "dd = q1\n",
        "dd = dd.toPandas()\n",
        "plt.plot(dd['year'], dd['avg(catch_freq)'], marker='o', linestyle='-', color='b')\n",
        "\n",
        "\n",
        "# Beautify the plot\n",
        "plt.title('Average Catch Frequency Over Years')\n",
        "plt.xlabel('Year')\n",
        "plt.ylabel('Average Catch Frequency')\n",
        "plt.xticks(dd['year'][::5])\n",
        "plt.grid(True)\n",
        "\n",
        "# Show the plot\n",
        "plt.show()"
      ],
      "metadata": {
        "id": "NqVWp6viFCy-",
        "colab": {
          "base_uri": "https://localhost:8080/",
          "height": 472
        },
        "outputId": "a58948ae-cc7f-4ae0-ab98-bf41287184dd"
      },
      "execution_count": null,
      "outputs": [
        {
          "output_type": "display_data",
          "data": {
            "text/plain": [
              "<Figure size 640x480 with 1 Axes>"
            ],
            "image/png": "[encoded data removed]"
          },
          "metadata": {}
        }
      ]
    },
    {
      "cell_type": "code",
      "source": [
        "q1 = spark.sql(\"SELECT common_name, year, AVG(catch_freq) FROM ABL_Survey GROUP BY common_name, year ORDER BY AVG(catch_freq) DESC\")\n",
        "dd = q1.toPandas()\n",
        "dd = dd.dropna()\n",
        "d2013 = dd[dd['year']=='2013']\n",
        "d2013.head()"
      ],
      "metadata": {
        "colab": {
          "base_uri": "https://localhost:8080/"
        },
        "id": "GUbz1zWCZDDF",
        "outputId": "00bad42f-d3b7-4f82-ed37-8b010eaed7d7"
      },
      "execution_count": null,
      "outputs": [
        {
          "output_type": "execute_result",
          "data": {
            "text/plain": [
              "                 common_name  year  avg(catch_freq)\n",
              "33           Giant grenadier  2013         9.494922\n",
              "98                 Sablefish  2013         6.516701\n",
              "106              Pacific cod  2013         6.350482\n",
              "193  Skate Egg Case Unident.  2013         3.727273\n",
              "198        Pacific grenadier  2013         3.647059"
            ],
            "text/html": [
              "\n",
              "  <div id=\"df-7c3ec8c1-968c-442f-b9cc-e7d50a241f9f\" class=\"colab-df-container\">\n",
              "    <div>\n",
              "<style scoped>\n",
              "    .dataframe tbody tr th:only-of-type {\n",
              "        vertical-align: middle;\n",
              "    }\n",
              "\n",
              "    .dataframe tbody tr th {\n",
              "        vertical-align: top;\n",
              "    }\n",
              "\n",
              "    .dataframe thead th {\n",
              "        text-align: right;\n",
              "    }\n",
              "</style>\n",
              "<table border=\"1\" class=\"dataframe\">\n",
              "  <thead>\n",
              "    <tr style=\"text-align: right;\">\n",
              "      <th></th>\n",
              "      <th>common_name</th>\n",
              "      <th>year</th>\n",
              "      <th>avg(catch_freq)</th>\n",
              "    </tr>\n",
              "  </thead>\n",
              "  <tbody>\n",
              "    <tr>\n",
              "      <th>33</th>\n",
              "      <td>Giant grenadier</td>\n",
              "      <td>2013</td>\n",
              "      <td>9.494922</td>\n",
              "    </tr>\n",
              "    <tr>\n",
              "      <th>98</th>\n",
              "      <td>Sablefish</td>\n",
              "      <td>2013</td>\n",
              "      <td>6.516701</td>\n",
              "    </tr>\n",
              "    <tr>\n",
              "      <th>106</th>\n",
              "      <td>Pacific cod</td>\n",
              "      <td>2013</td>\n",
              "      <td>6.350482</td>\n",
              "    </tr>\n",
              "    <tr>\n",
              "      <th>193</th>\n",
              "      <td>Skate Egg Case Unident.</td>\n",
              "      <td>2013</td>\n",
              "      <td>3.727273</td>\n",
              "    </tr>\n",
              "    <tr>\n",
              "      <th>198</th>\n",
              "      <td>Pacific grenadier</td>\n",
              "      <td>2013</td>\n",
              "      <td>3.647059</td>\n",
              "    </tr>\n",
              "  </tbody>\n",
              "</table>\n",
              "</div>\n",
              "    <div class=\"colab-df-buttons\">\n",
              "\n",
              "  <div class=\"colab-df-container\">\n",
              "    <button class=\"colab-df-convert\" onclick=\"convertToInteractive('df-7c3ec8c1-968c-442f-b9cc-e7d50a241f9f')\"\n",
              "            title=\"Convert this dataframe to an interactive table.\"\n",
              "            style=\"display:none;\">\n",
              "\n",
              "  <svg xmlns=\"http://www.w3.org/2000/svg\" height=\"24px\" viewBox=\"0 -960 960 960\">\n",
              "    <path d=\"M120-120v-720h720v720H120Zm60-500h600v-160H180v160Zm220 220h160v-160H400v160Zm0 220h160v-160H400v160ZM180-400h160v-160H180v160Zm440 0h160v-160H620v160ZM180-180h160v-160H180v160Zm440 0h160v-160H620v160Z\"/>\n",
              "  </svg>\n",
              "    </button>\n",
              "\n",
              "  <style>\n",
              "    .colab-df-container {\n",
              "      display:flex;\n",
              "      gap: 12px;\n",
              "    }\n",
              "\n",
              "    .colab-df-convert {\n",
              "      background-color: #E8F0FE;\n",
              "      border: none;\n",
              "      border-radius: 50%;\n",
              "      cursor: pointer;\n",
              "      display: none;\n",
              "      fill: #1967D2;\n",
              "      height: 32px;\n",
              "      padding: 0 0 0 0;\n",
              "      width: 32px;\n",
              "    }\n",
              "\n",
              "    .colab-df-convert:hover {\n",
              "      background-color: #E2EBFA;\n",
              "      box-shadow: 0px 1px 2px rgba(60, 64, 67, 0.3), 0px 1px 3px 1px rgba(60, 64, 67, 0.15);\n",
              "      fill: #174EA6;\n",
              "    }\n",
              "\n",
              "    .colab-df-buttons div {\n",
              "      margin-bottom: 4px;\n",
              "    }\n",
              "\n",
              "    [theme=dark] .colab-df-convert {\n",
              "      background-color: #3B4455;\n",
              "      fill: #D2E3FC;\n",
              "    }\n",
              "\n",
              "    [theme=dark] .colab-df-convert:hover {\n",
              "      background-color: #434B5C;\n",
              "      box-shadow: 0px 1px 3px 1px rgba(0, 0, 0, 0.15);\n",
              "      filter: drop-shadow(0px 1px 2px rgba(0, 0, 0, 0.3));\n",
              "      fill: #FFFFFF;\n",
              "    }\n",
              "  </style>\n",
              "\n",
              "    <script>\n",
              "      const buttonEl =\n",
              "        document.querySelector('#df-7c3ec8c1-968c-442f-b9cc-e7d50a241f9f button.colab-df-convert');\n",
              "      buttonEl.style.display =\n",
              "        google.colab.kernel.accessAllowed ? 'block' : 'none';\n",
              "\n",
              "      async function convertToInteractive(key) {\n",
              "        const element = document.querySelector('#df-7c3ec8c1-968c-442f-b9cc-e7d50a241f9f');\n",
              "        const dataTable =\n",
              "          await google.colab.kernel.invokeFunction('convertToInteractive',\n",
              "                                                    [key], {});\n",
              "        if (!dataTable) return;\n",
              "\n",
              "        const docLinkHtml = 'Like what you see? Visit the ' +\n",
              "          '<a target=\"_blank\" href=https://colab.research.google.com/notebooks/data_table.ipynb>data table notebook</a>'\n",
              "          + ' to learn more about interactive tables.';\n",
              "        element.innerHTML = '';\n",
              "        dataTable['output_type'] = 'display_data';\n",
              "        await google.colab.output.renderOutput(dataTable, element);\n",
              "        const docLink = document.createElement('div');\n",
              "        docLink.innerHTML = docLinkHtml;\n",
              "        element.appendChild(docLink);\n",
              "      }\n",
              "    </script>\n",
              "  </div>\n",
              "\n",
              "\n",
              "<div id=\"df-8b5ec195-37b4-4038-b644-565cd24f01f2\">\n",
              "  <button class=\"colab-df-quickchart\" onclick=\"quickchart('df-8b5ec195-37b4-4038-b644-565cd24f01f2')\"\n",
              "            title=\"Suggest charts\"\n",
              "            style=\"display:none;\">\n",
              "\n",
              "<svg xmlns=\"http://www.w3.org/2000/svg\" height=\"24px\"viewBox=\"0 0 24 24\"\n",
              "     width=\"24px\">\n",
              "    <g>\n",
              "        <path d=\"M19 3H5c-1.1 0-2 .9-2 2v14c0 1.1.9 2 2 2h14c1.1 0 2-.9 2-2V5c0-1.1-.9-2-2-2zM9 17H7v-7h2v7zm4 0h-2V7h2v10zm4 0h-2v-4h2v4z\"/>\n",
              "    </g>\n",
              "</svg>\n",
              "  </button>\n",
              "\n",
              "<style>\n",
              "  .colab-df-quickchart {\n",
              "      --bg-color: #E8F0FE;\n",
              "      --fill-color: #1967D2;\n",
              "      --hover-bg-color: #E2EBFA;\n",
              "      --hover-fill-color: #174EA6;\n",
              "      --disabled-fill-color: #AAA;\n",
              "      --disabled-bg-color: #DDD;\n",
              "  }\n",
              "\n",
              "  [theme=dark] .colab-df-quickchart {\n",
              "      --bg-color: #3B4455;\n",
              "      --fill-color: #D2E3FC;\n",
              "      --hover-bg-color: #434B5C;\n",
              "      --hover-fill-color: #FFFFFF;\n",
              "      --disabled-bg-color: #3B4455;\n",
              "      --disabled-fill-color: #666;\n",
              "  }\n",
              "\n",
              "  .colab-df-quickchart {\n",
              "    background-color: var(--bg-color);\n",
              "    border: none;\n",
              "    border-radius: 50%;\n",
              "    cursor: pointer;\n",
              "    display: none;\n",
              "    fill: var(--fill-color);\n",
              "    height: 32px;\n",
              "    padding: 0;\n",
              "    width: 32px;\n",
              "  }\n",
              "\n",
              "  .colab-df-quickchart:hover {\n",
              "    background-color: var(--hover-bg-color);\n",
              "    box-shadow: 0 1px 2px rgba(60, 64, 67, 0.3), 0 1px 3px 1px rgba(60, 64, 67, 0.15);\n",
              "    fill: var(--button-hover-fill-color);\n",
              "  }\n",
              "\n",
              "  .colab-df-quickchart-complete:disabled,\n",
              "  .colab-df-quickchart-complete:disabled:hover {\n",
              "    background-color: var(--disabled-bg-color);\n",
              "    fill: var(--disabled-fill-color);\n",
              "    box-shadow: none;\n",
              "  }\n",
              "\n",
              "  .colab-df-spinner {\n",
              "    border: 2px solid var(--fill-color);\n",
              "    border-color: transparent;\n",
              "    border-bottom-color: var(--fill-color);\n",
              "    animation:\n",
              "      spin 1s steps(1) infinite;\n",
              "  }\n",
              "\n",
              "  @keyframes spin {\n",
              "    0% {\n",
              "      border-color: transparent;\n",
              "      border-bottom-color: var(--fill-color);\n",
              "      border-left-color: var(--fill-color);\n",
              "    }\n",
              "    20% {\n",
              "      border-color: transparent;\n",
              "      border-left-color: var(--fill-color);\n",
              "      border-top-color: var(--fill-color);\n",
              "    }\n",
              "    30% {\n",
              "      border-color: transparent;\n",
              "      border-left-color: var(--fill-color);\n",
              "      border-top-color: var(--fill-color);\n",
              "      border-right-color: var(--fill-color);\n",
              "    }\n",
              "    40% {\n",
              "      border-color: transparent;\n",
              "      border-right-color: var(--fill-color);\n",
              "      border-top-color: var(--fill-color);\n",
              "    }\n",
              "    60% {\n",
              "      border-color: transparent;\n",
              "      border-right-color: var(--fill-color);\n",
              "    }\n",
              "    80% {\n",
              "      border-color: transparent;\n",
              "      border-right-color: var(--fill-color);\n",
              "      border-bottom-color: var(--fill-color);\n",
              "    }\n",
              "    90% {\n",
              "      border-color: transparent;\n",
              "      border-bottom-color: var(--fill-color);\n",
              "    }\n",
              "  }\n",
              "</style>\n",
              "\n",
              "  <script>\n",
              "    async function quickchart(key) {\n",
              "      const quickchartButtonEl =\n",
              "        document.querySelector('#' + key + ' button');\n",
              "      quickchartButtonEl.disabled = true;  // To prevent multiple clicks.\n",
              "      quickchartButtonEl.classList.add('colab-df-spinner');\n",
              "      try {\n",
              "        const charts = await google.colab.kernel.invokeFunction(\n",
              "            'suggestCharts', [key], {});\n",
              "      } catch (error) {\n",
              "        console.error('Error during call to suggestCharts:', error);\n",
              "      }\n",
              "      quickchartButtonEl.classList.remove('colab-df-spinner');\n",
              "      quickchartButtonEl.classList.add('colab-df-quickchart-complete');\n",
              "    }\n",
              "    (() => {\n",
              "      let quickchartButtonEl =\n",
              "        document.querySelector('#df-8b5ec195-37b4-4038-b644-565cd24f01f2 button');\n",
              "      quickchartButtonEl.style.display =\n",
              "        google.colab.kernel.accessAllowed ? 'block' : 'none';\n",
              "    })();\n",
              "  </script>\n",
              "</div>\n",
              "    </div>\n",
              "  </div>\n"
            ]
          },
          "metadata": {},
          "execution_count": 61
        }
      ]
    },
    {
      "cell_type": "markdown",
      "source": [
        "### Country - Catch freq"
      ],
      "metadata": {
        "id": "q3qkek84nXaV"
      }
    },
    {
      "cell_type": "code",
      "source": [
        "q1 = spark.sql(\"SELECT country,  AVG(catch_freq), AVG(depth) , AVG(distance_fished), Count(*) FROM ABL_Survey GROUP BY country\")\n",
        "q1.show()"
      ],
      "metadata": {
        "id": "l0c_vDklW-Q5",
        "colab": {
          "base_uri": "https://localhost:8080/"
        },
        "outputId": "798a95e4-f725-4143-a798-f148572cbb23"
      },
      "execution_count": null,
      "outputs": [
        {
          "output_type": "stream",
          "name": "stdout",
          "text": [
            "+-------------+-----------------+------------------+--------------------+--------+\n",
            "|      country|  avg(catch_freq)|        avg(depth)|avg(distance_fished)|count(1)|\n",
            "+-------------+-----------------+------------------+--------------------+--------+\n",
            "|United States|5.065666347981982|415.72573479627897|   7.672272885398094| 1290722|\n",
            "|        Japan| 5.20515405011524| 408.0037614678899|   7.697588880919921|  778805|\n",
            "+-------------+-----------------+------------------+--------------------+--------+\n",
            "\n"
          ]
        }
      ]
    },
    {
      "cell_type": "code",
      "source": [
        "q1 = spark.sql(\"SELECT country,  year ,AVG(catch_freq), AVG(depth) , AVG(distance_fished), Count(*) FROM ABL_Survey WHERE country = 'United States' GROUP BY year, country ORDER BY year\")\n",
        "ml2 = q1\n",
        "ml2 = ml2.toPandas()"
      ],
      "metadata": {
        "id": "F5QdJZ6znkv9"
      },
      "execution_count": null,
      "outputs": []
    },
    {
      "cell_type": "code",
      "source": [
        "# Plotting\n",
        "plt.figure(figsize=(10, 6))\n",
        "\n",
        "plt.plot(ml2['year'], ml2['avg(catch_freq)'], label='Average Catch Frequency', marker='o', linestyle='-', color='blue')\n",
        "plt.plot(ml2['year'], ml2['avg(distance_fished)'], label='Average Distance Fished', marker='s', linestyle='-', color='green')\n",
        "\n",
        "# Beautify the plot\n",
        "plt.title('Average Catch Frequency and Distance Fished Over Years (United States)')\n",
        "plt.xlabel('Year')\n",
        "plt.xticks(rotation=45, ha='right')\n",
        "plt.ylabel('Average Values')\n",
        "plt.legend()  # Add legend\n",
        "plt.grid(True)\n",
        "plt.tight_layout()  # Adjust layout for better appearance\n",
        "\n",
        "# Show the plot\n",
        "plt.show()"
      ],
      "metadata": {
        "colab": {
          "base_uri": "https://localhost:8080/",
          "height": 607
        },
        "id": "eVPkifcWyXoz",
        "outputId": "7fa6f026-05fc-4612-bc56-7ac77f6615a7"
      },
      "execution_count": null,
      "outputs": [
        {
          "output_type": "display_data",
          "data": {
            "text/plain": [
              "<Figure size 1000x600 with 1 Axes>"
            ],
            "image/png": "[encoded data removed]"
          },
          "metadata": {}
        }
      ]
    },
    {
      "cell_type": "code",
      "source": [
        "q1 = spark.sql(\"SELECT country,  year ,AVG(catch_freq), AVG(depth) , AVG(distance_fished), Count(*) FROM ABL_Survey WHERE country = 'Japan' GROUP BY year, country ORDER BY year\")\n",
        "ml2 = q1\n",
        "ml2 = ml2.toPandas()\n",
        "# Plotting\n",
        "plt.figure(figsize=(10, 6))\n",
        "\n",
        "plt.plot(ml2['year'], ml2['avg(catch_freq)'], label='Average Catch Frequency', marker='o', linestyle='-', color='blue')\n",
        "plt.plot(ml2['year'], ml2['avg(distance_fished)'], label='Average Distance Fished', marker='s', linestyle='-', color='green')\n",
        "\n",
        "# Beautify the plot\n",
        "plt.title('Average Catch Frequency and Distance Fished Over Years (Japan)')\n",
        "plt.xlabel('Year')\n",
        "plt.xticks(rotation=45, ha='right')\n",
        "plt.ylabel('Average Values')\n",
        "plt.legend()  # Add legend\n",
        "plt.grid(True)\n",
        "plt.tight_layout()  # Adjust layout for better appearance\n",
        "\n",
        "# Show the plot\n",
        "plt.show()"
      ],
      "metadata": {
        "colab": {
          "base_uri": "https://localhost:8080/",
          "height": 607
        },
        "id": "rqbZ6TrPYZRe",
        "outputId": "6597ec16-5557-4c23-c09d-03717acd6329"
      },
      "execution_count": null,
      "outputs": [
        {
          "output_type": "display_data",
          "data": {
            "text/plain": [
              "<Figure size 1000x600 with 1 Axes>"
            ],
            "image/png": "[encoded data removed]"
          },
          "metadata": {}
        }
      ]
    },
    {
      "cell_type": "code",
      "source": [
        "q1 = spark.sql(\"\"\"\n",
        "    SELECT *\n",
        "    FROM (\n",
        "        SELECT\n",
        "            country,\n",
        "            year,\n",
        "            common_name,\n",
        "            catch_freq,\n",
        "            depth,\n",
        "            distance_fished,\n",
        "            ROW_NUMBER() OVER (PARTITION BY year ORDER BY catch_freq DESC) as row_num\n",
        "        FROM\n",
        "            ABL_Survey\n",
        "        WHERE\n",
        "            country = 'Japan'\n",
        "    ) tmp\n",
        "    WHERE\n",
        "        row_num = 1\n",
        "    ORDER BY\n",
        "        year\n",
        "\"\"\")\n",
        "q1.show(30)"
      ],
      "metadata": {
        "colab": {
          "base_uri": "https://localhost:8080/"
        },
        "id": "3WABDPOUrpRo",
        "outputId": "944ceee8-c68e-4d5d-8567-45fbc6471a34"
      },
      "execution_count": null,
      "outputs": [
        {
          "output_type": "stream",
          "name": "stdout",
          "text": [
            "+-------+----+---------------+----------+-----+------------------+-------+\n",
            "|country|year|    common_name|catch_freq|depth|   distance_fished|row_num|\n",
            "+-------+----+---------------+----------+-----+------------------+-------+\n",
            "|  Japan|1979|    Pacific cod|       9.0| null|               7.5|      1|\n",
            "|  Japan|1980|    Pacific cod|       9.0| null|7.8000001907348633|      1|\n",
            "|  Japan|1981|    Pacific cod|       9.0| null|5.1999998092651367|      1|\n",
            "|  Japan|1982|    Pacific cod|       9.0|  330|               8.5|      1|\n",
            "|  Japan|1983|      Sablefish|       9.0|  400|7.6999998092651367|      1|\n",
            "|  Japan|1984|    Pacific cod|       9.0|  197|7.8000001907348633|      1|\n",
            "|  Japan|1985|    Pacific cod|       9.0| null|               8.5|      1|\n",
            "|  Japan|1986|    Pacific cod|       9.0| null|7.9000000953674316|      1|\n",
            "|  Japan|1987|      Sablefish|       9.0|  165|7.1999998092651367|      1|\n",
            "|  Japan|1988|      Sablefish|       9.0| null|7.5999999046325684|      1|\n",
            "|  Japan|1989|      Sablefish|       9.0|  540|               7.0|      1|\n",
            "|  Japan|1990|    Pacific cod|       9.0| null|               8.0|      1|\n",
            "|  Japan|1991|    Pacific cod|       9.0| null|7.8000001907348633|      1|\n",
            "|  Japan|1992|Giant grenadier|       9.0| null|7.9000000953674316|      1|\n",
            "|  Japan|1993|    Pacific cod|       9.0|  155|9.1000003814697266|      1|\n",
            "|  Japan|1994|    Pacific cod|       9.0| null|8.6999998092651367|      1|\n",
            "+-------+----+---------------+----------+-----+------------------+-------+\n",
            "\n"
          ]
        }
      ]
    },
    {
      "cell_type": "code",
      "source": [
        "q1 = spark.sql(\"\"\"\n",
        "    SELECT *\n",
        "    FROM (\n",
        "        SELECT\n",
        "            country,\n",
        "            year,\n",
        "            common_name,\n",
        "            catch_freq,\n",
        "            depth,\n",
        "            distance_fished,\n",
        "            ROW_NUMBER() OVER (PARTITION BY year ORDER BY catch_freq DESC) as row_num\n",
        "        FROM\n",
        "            ABL_Survey\n",
        "        WHERE\n",
        "            country = 'United States'\n",
        "    ) tmp\n",
        "    WHERE\n",
        "        row_num = 1\n",
        "    ORDER BY\n",
        "        year\n",
        "\"\"\")\n",
        "q1.show(30)"
      ],
      "metadata": {
        "colab": {
          "base_uri": "https://localhost:8080/"
        },
        "id": "6cTZzMtkwEVt",
        "outputId": "ca369ed3-9a5c-4d5d-b4ee-a4d84e5911a0"
      },
      "execution_count": null,
      "outputs": [
        {
          "output_type": "stream",
          "name": "stdout",
          "text": [
            "+-------------+----+-------------------+------------------+-----+------------------+-------+\n",
            "|      country|year|        common_name|        catch_freq|depth|   distance_fished|row_num|\n",
            "+-------------+----+-------------------+------------------+-----+------------------+-------+\n",
            "|United States|1988|        Pacific cod|               9.0|  133|8.6000003814697266|      1|\n",
            "|United States|1989|        Pacific cod|               9.0| null|4.3000001907348633|      1|\n",
            "|United States|1990|          Sablefish|               9.0| null|8.6000003814697266|      1|\n",
            "|United States|1991|          Sablefish|               9.0| null|8.6000003814697266|      1|\n",
            "|United States|1992|        Pacific cod|               9.0| null|8.6000003814697266|      1|\n",
            "|United States|1993|          Sablefish|               9.0| null|8.6000003814697266|      1|\n",
            "|United States|1994|          Sablefish|               9.0| null|               9.5|      1|\n",
            "|United States|1995|          Sablefish|               9.0| null|8.6000003814697266|      1|\n",
            "|United States|1996|          Sablefish|               9.0|  180|8.6000003814697266|      1|\n",
            "|United States|1997|    Giant grenadier|               9.0| null|9.6000003814697266|      1|\n",
            "|United States|1998|  Rougheye rockfish| 9.987577639751553| null|8.1999998092651367|      1|\n",
            "|United States|1999|  Rougheye rockfish|9.9767441860465116| null|7.5999999046325684|      1|\n",
            "|United States|2000|Shortraker rockfish|9.9702380952380967| null|7.4000000953674316|      1|\n",
            "|United States|2001|  Rougheye rockfish|9.9661016949152543|  322|7.8000001907348633|      1|\n",
            "|United States|2002|  Rougheye rockfish|9.9875000000000007| null|7.9000000953674316|      1|\n",
            "|United States|2003|  Rougheye rockfish|9.9846153846153847|  370|8.0999999046325684|      1|\n",
            "|United States|2004|  Rougheye rockfish|9.9926062846580415| null|               8.5|      1|\n",
            "|United States|2005|Shortraker rockfish|9.9152542372881349|  439|8.3999996185302734|      1|\n",
            "|United States|2006|  Rougheye rockfish|9.9738562091503269| null|9.1999998092651367|      1|\n",
            "|United States|2007|  Rougheye rockfish|9.9606299212598426| null|               8.5|      1|\n",
            "|United States|2008|Shortraker rockfish|9.9801980198019802| null|8.9000000953674316|      1|\n",
            "|United States|2009|  Rougheye rockfish|9.8894230769230766| null|6.7999999523162842|      1|\n",
            "|United States|2010|  Rougheye rockfish|9.9740932642487046| null|7.7999999523162842|      1|\n",
            "|United States|2011|Shortraker rockfish|9.9755725190839701|  405|8.2000002861022949|      1|\n",
            "|United States|2012|  Rougheye rockfish| 9.931034482758621| null|9.4000000953674316|      1|\n",
            "|United States|2013|  Rougheye rockfish|9.9813084112149539| null|8.3000001907348633|      1|\n",
            "|United States|2014|  Rougheye rockfish|9.9024390243902438|  508|8.8000001907348633|      1|\n",
            "|United States|2015|  Rougheye rockfish|9.9416058394160594| null|8.0999999046325684|      1|\n",
            "|United States|2016|Shortraker rockfish|9.9411764705882355|  377|               7.5|      1|\n",
            "|United States|2017|  Rougheye rockfish|9.9677419354838719| null|7.3999998569488525|      1|\n",
            "+-------------+----+-------------------+------------------+-----+------------------+-------+\n",
            "\n"
          ]
        }
      ]
    },
    {
      "cell_type": "markdown",
      "source": [],
      "metadata": {
        "id": "ALs9i3ZHR-05"
      }
    },
    {
      "cell_type": "markdown",
      "source": [
        "### Vessel / Station / Cruise"
      ],
      "metadata": {
        "id": "gOHwU3XCWOYd"
      }
    },
    {
      "cell_type": "code",
      "source": [
        "#cruise_number, vessel_number, station_number, species_code, station_type, habitat_type\n",
        "q1 = spark.sql(\"SELECT cruise_number, AVG(soak_time) , AVG(catch_freq) FROM ABL_Survey GROUP BY cruise_number ORDER BY AVG(catch_freq) DESC\")\n",
        "q1.show(50)"
      ],
      "metadata": {
        "colab": {
          "base_uri": "https://localhost:8080/"
        },
        "id": "kL9PHbpJWUG1",
        "outputId": "069eaa51-8177-47cb-a860-099c7e3da619"
      },
      "execution_count": null,
      "outputs": [
        {
          "output_type": "stream",
          "name": "stdout",
          "text": [
            "+-------------+------------------+------------------+\n",
            "|cruise_number|    avg(soak_time)|   avg(catch_freq)|\n",
            "+-------------+------------------+------------------+\n",
            "|       199501|496.28687213683554| 6.191916727657152|\n",
            "|       198901|429.63904343831354| 6.126395701050657|\n",
            "|       198601| 528.5775346699744| 6.125988848406771|\n",
            "|       198801|457.46521015603116|  6.07618456926516|\n",
            "|       198501| 530.6277356230032| 5.883925718849841|\n",
            "|       198701| 541.0155723070819|5.8308073794881965|\n",
            "|       199601|426.49244452945675|  5.69639441469013|\n",
            "|       199701| 457.2357262103506| 5.581457985531442|\n",
            "|       199001|272.25021141248783| 5.556185235204281|\n",
            "|       199201|244.47726047294694| 5.386137306469184|\n",
            "|       199101|295.74322191600123|5.3523779238216385|\n",
            "|       198401| 526.4969128791789| 5.337931319305346|\n",
            "|       199301|250.53529462034783|   5.2494017860958|\n",
            "|       199901| 526.0150147669303| 5.080092525661414|\n",
            "|       198101|121.24855618502832| 5.066195478796546|\n",
            "|       201001|489.03235134646667| 4.997409482498946|\n",
            "|       200101| 503.8544780859623| 4.990789752276096|\n",
            "|       199801| 477.2931483087598| 4.965032894040996|\n",
            "|       198301|509.76572135712075| 4.960235124265236|\n",
            "|       200401|489.36460988098855| 4.950361242956347|\n",
            "|       200301| 476.3470652805579| 4.918318589784981|\n",
            "|       201101| 482.0350724032567| 4.910060541648479|\n",
            "|       200601|  496.647609216104| 4.881262492038042|\n",
            "|       198201|321.16616139743036| 4.862999855637361|\n",
            "|       200201|489.72061768501624| 4.854879622624717|\n",
            "|       200001|506.12283498034213| 4.840187015194984|\n",
            "|       200701|482.72926267281105| 4.821832807826016|\n",
            "|       199401|257.39146645441025| 4.807869546092458|\n",
            "|       201701| 515.1941696718173| 4.693958136067852|\n",
            "|       198001|334.35467095310133| 4.685767154037493|\n",
            "|       201501|483.57695927972173| 4.682934315531001|\n",
            "|       201601|493.84284637218377|4.6367527053397195|\n",
            "|       200501|487.43303611234955| 4.628176549264378|\n",
            "|       200901|475.66379342935994| 4.512683830478999|\n",
            "|       197901|              null| 4.431853742897142|\n",
            "|       200801| 486.2705807011383| 4.359080298303964|\n",
            "|       201401|483.18166795870906| 4.313313476682035|\n",
            "|       201201| 483.6953515174798| 4.252401075681905|\n",
            "|       201301| 468.3951486219067| 4.131750209111125|\n",
            "+-------------+------------------+------------------+\n",
            "\n"
          ]
        }
      ]
    },
    {
      "cell_type": "code",
      "source": [
        "#cruise_number, vessel_number, station_number, species_code, station_type, habitat_type\n",
        "q1 = spark.sql(\"SELECT vessel_number, AVG(soak_time) , AVG(catch_freq) FROM ABL_Survey GROUP BY vessel_number ORDER BY AVG(catch_freq) DESC\")\n",
        "q1.show(50)"
      ],
      "metadata": {
        "colab": {
          "base_uri": "https://localhost:8080/"
        },
        "id": "hlR7DiH1W9tt",
        "outputId": "3012bf62-f6aa-4400-9d88-c48678b0a532"
      },
      "execution_count": null,
      "outputs": [
        {
          "output_type": "stream",
          "name": "stdout",
          "text": [
            "+-------------+------------------+------------------+\n",
            "|vessel_number|    avg(soak_time)|   avg(catch_freq)|\n",
            "+-------------+------------------+------------------+\n",
            "|           70| 487.8839100346021|6.6050832977360106|\n",
            "|          523|  384.584702017832|  5.94367533096545|\n",
            "|          561| 438.7475048572113|5.8468164724625336|\n",
            "|          516| 510.8104776298778| 5.676933509135431|\n",
            "|           81| 485.4963831485636|5.1998150700082295|\n",
            "|          524|131.56607036251725| 5.078638038577928|\n",
            "|          551|423.76585909447357| 4.966370191911024|\n",
            "|          517|509.76572135712075| 4.960235124265236|\n",
            "|          518|205.03549060542798| 4.937215333520412|\n",
            "|           96|485.99970526573355| 4.817872760065916|\n",
            "+-------------+------------------+------------------+\n",
            "\n"
          ]
        }
      ]
    },
    {
      "cell_type": "code",
      "source": [
        "#cruise_number, vessel_number, station_number, species_code, station_type, habitat_type\n",
        "q1 = spark.sql(\"SELECT station_number, station_type ,AVG(soak_time) , AVG(catch_freq) FROM ABL_Survey GROUP BY station_number, station_type ORDER BY AVG(catch_freq) DESC\")\n",
        "q1.show(50)"
      ],
      "metadata": {
        "colab": {
          "base_uri": "https://localhost:8080/"
        },
        "id": "3RZn0ZYfXtnn",
        "outputId": "fbb3a948-7ea8-4fdf-978e-de00fdd58791"
      },
      "execution_count": null,
      "outputs": [
        {
          "output_type": "stream",
          "name": "stdout",
          "text": [
            "+--------------+------------+------------------+------------------+\n",
            "|station_number|station_type|    avg(soak_time)|   avg(catch_freq)|\n",
            "+--------------+------------+------------------+------------------+\n",
            "|           518|Experimental|             517.0| 9.093975903614458|\n",
            "|           515|Experimental|431.94700460829495| 8.834101382488479|\n",
            "|           529|Experimental|             509.0| 8.745721271393643|\n",
            "|           517|Experimental|             570.0| 8.646929824561404|\n",
            "|           519|Experimental|             502.0|  8.26963906581741|\n",
            "|           528|Experimental|             539.0| 7.952488687782806|\n",
            "|           507|Experimental|             179.0|  7.93609022556391|\n",
            "|           512|Experimental| 633.3417721518987| 7.870886075949367|\n",
            "|           527|Experimental|             578.0|  7.39963167587477|\n",
            "|           530|Experimental|             552.0| 7.321428571428571|\n",
            "|           516|Experimental|             559.0| 7.253731343283582|\n",
            "|            70|    Standard|467.56233738537003| 7.055040248437053|\n",
            "|            72|    Standard| 480.1795757916109| 6.974473839912095|\n",
            "|            79|    Standard|482.95787404938903| 6.906435623284585|\n",
            "|           526|Experimental|             556.0| 6.821114369501466|\n",
            "|            66|    Standard| 474.6430533588612| 6.801416130870026|\n",
            "|            69|    Standard|469.68507831821927| 6.793108929777849|\n",
            "|           513|Experimental|491.55214331413947| 6.792066538707614|\n",
            "|            77|    Standard| 479.9966925682407| 6.708537331701346|\n",
            "|             3|    Standard| 306.1810790835181| 6.697000337040782|\n",
            "|            93|    Standard| 500.7107501933488|6.6288329969975885|\n",
            "|            45|    Standard|306.33040281329926| 6.584878516624041|\n",
            "|            81|    Standard|487.73348326049137|6.5717365659195375|\n",
            "|           535|Experimental| 513.6807159353349| 6.516743648960739|\n",
            "|            71|    Standard| 474.9220196699724|   6.4732520036322|\n",
            "|           533|Experimental|             534.0| 6.397626112759644|\n",
            "|           537|Experimental|             467.0| 6.381395348837209|\n",
            "|            62|    Standard| 486.7650713522959| 6.332056969413962|\n",
            "|           508|Experimental|             367.0| 6.321917808219178|\n",
            "|            83|    Standard|492.07829101386636|  6.28089111475693|\n",
            "|           536|Experimental|             436.0|6.2549504950495045|\n",
            "|            92|    Standard| 496.5154761233579|  6.24422706863374|\n",
            "|            65|    Standard|458.24964114832534| 6.172041772249098|\n",
            "|            67|    Standard| 463.1344582018289| 6.163729923592702|\n",
            "|           523|Experimental| 559.9233644859813| 6.157943925233645|\n",
            "|            74|    Standard| 483.5530737145753| 6.119818434182391|\n",
            "|           509|Experimental|             472.0| 6.119496855345912|\n",
            "|           100|    Standard|511.19414826418716| 6.046810374191037|\n",
            "|            73|    Standard| 475.6724664469983| 6.012066712781492|\n",
            "|           531|Experimental|             503.0| 5.997601918465228|\n",
            "|            78|    Standard|494.60020974568334| 5.983051458656377|\n",
            "|            56|    Standard| 342.9912189002718| 5.967593560526866|\n",
            "|             5|    Standard|324.40549181869477| 5.958618331053351|\n",
            "|           143|    Standard| 344.8321611634283| 5.949696030516152|\n",
            "|           101|    Standard|511.11450951137635| 5.899694409491282|\n",
            "|            84|    Standard| 482.9454938167034| 5.895580695043542|\n",
            "|            19|    Standard| 325.6567820658343| 5.846787910506346|\n",
            "|           534|Experimental|             460.0| 5.798479087452471|\n",
            "|           142|    Standard|188.58177451971687| 5.779322548028311|\n",
            "|            43|    Standard|304.54527881040894| 5.743997726949851|\n",
            "+--------------+------------+------------------+------------------+\n",
            "only showing top 50 rows\n",
            "\n"
          ]
        }
      ]
    },
    {
      "cell_type": "code",
      "source": [
        "#cruise_number, vessel_number, station_number, species_code, station_type, habitat_type\n",
        "q1 = spark.sql(\"SELECT species_code, common_name ,habitat_type,AVG(soak_time) , AVG(catch_freq) FROM ABL_Survey GROUP BY species_code, common_name, habitat_type ORDER BY AVG(catch_freq) DESC\")\n",
        "q1.show(50,truncate=False)"
      ],
      "metadata": {
        "colab": {
          "base_uri": "https://localhost:8080/"
        },
        "id": "Y_RCGMgbYA7n",
        "outputId": "9194e805-4550-4eda-fa9c-93d8b02d19cb"
      },
      "execution_count": null,
      "outputs": [
        {
          "output_type": "stream",
          "name": "stdout",
          "text": [
            "+------------+------------------------------------+-------------------------+------------------+------------------+\n",
            "|species_code|common_name                         |habitat_type             |avg(soak_time)    |avg(catch_freq)   |\n",
            "+------------+------------------------------------+-------------------------+------------------+------------------+\n",
            "|20510       |Sablefish                           |Deep cross-shelf gully   |274.86151797603196|12.386669625684274|\n",
            "|21220       |Pacific grenadier                   |Shallow cross-shelf gully|583.0             |10.088235294117647|\n",
            "|21720       |Pacific cod                         |Upper continental slope  |391.5249416467497 |9.399983953035886 |\n",
            "|20510       |Sablefish                           |Upper continental slope  |466.24142141965143|9.223259303801342 |\n",
            "|20510       |Sablefish                           |Shallow cross-shelf gully|311.4361581507626 |8.366543844045523 |\n",
            "|21230       |Giant grenadier                     |Upper continental slope  |462.8265935734033 |8.117223174598358 |\n",
            "|21232       |Popeye grenadier                    |Upper continental slope  |539.496090973703  |5.798510109968074 |\n",
            "|21720       |Pacific cod                         |Shallow cross-shelf gully|317.86187137416806|5.146832674943567 |\n",
            "|21220       |Pacific grenadier                   |Upper continental slope  |466.49598650237743|5.140663243269184 |\n",
            "|21320       |slim sculpin                        |Upper continental slope  |512.8382352941177 |4.245098039215686 |\n",
            "|21230       |Giant grenadier                     |Shallow cross-shelf gully|403.44674556213016|4.2103825136612025|\n",
            "|310         |Spiny dogfish                       |Shallow cross-shelf gully|355.21373031169003|3.6978127271525802|\n",
            "|30410       |Canary rockfish                     |Deep cross-shelf gully   |190.41095890410958|3.680365296803653 |\n",
            "|83000       |Brittlestarfish                     |Shallow cross-shelf gully|240.375           |3.67              |\n",
            "|21347       |Yellow Irish lord                   |Upper continental slope  |380.97719594594594|3.6263804959366537|\n",
            "|21720       |Pacific cod                         |Deep cross-shelf gully   |191.37609841827768|3.3678968951376684|\n",
            "|21740       |Walleye pollock                     |Upper continental slope  |346.96037580539866|3.2556711400513514|\n",
            "|30040       |Rockfish, unidentified              |Upper continental slope  |348.68073221820833|3.11566783419289  |\n",
            "|30020       |Shortspine thornyhead               |Deep cross-shelf gully   |264.7470261697066 |3.0445083267248214|\n",
            "|310         |Spiny dogfish                       |Deep cross-shelf gully   |240.33736489963974|2.9791559444158517|\n",
            "|71001       |snail  eggs                         |Upper continental slope  |530.75            |2.875             |\n",
            "|99995       |Aleutian/Bering/Alaska Skate Complex|Shallow cross-shelf gully|274.7815489046591 |2.8073125578525144|\n",
            "|10110       |Arrowtooth flounder                 |Shallow cross-shelf gully|305.93691202463083|2.7921875883916956|\n",
            "|30470       |Yelloweye rockfish                  |Shallow cross-shelf gully|490.15594974131557|2.740590405904059 |\n",
            "|10110       |Arrowtooth flounder                 |Upper continental slope  |424.371573202364  |2.6898340061728767|\n",
            "|10120       |Pacific halibut                     |Upper continental slope  |469.36954127684976|2.6802173192604717|\n",
            "|30475       |Redbanded rockfish                  |Deep cross-shelf gully   |235.83559577677224|2.6611362493715434|\n",
            "|42000       |Sea pen or Sea Whip                 |Upper continental slope  |538.5266444629475 |2.6074104912572857|\n",
            "|30040       |Rockfish, unidentified              |Shallow cross-shelf gully|370.67133520074697|2.5756802721088436|\n",
            "|42004       |slender seawhips                    |Upper continental slope  |499.6060606060606 |2.5454545454545454|\n",
            "|10115       |Greenland turbot                    |Upper continental slope  |350.29972233058726|2.5221278299159366|\n",
            "|10120       |Pacific halibut                     |Shallow cross-shelf gully|325.4715542179236 |2.5051633359513628|\n",
            "|30050       |Rougheye rockfish                   |Upper continental slope  |522.2858502598466 |2.487641767303403 |\n",
            "|310         |Spiny dogfish                       |Upper continental slope  |512.5311649233414 |2.4479152332461815|\n",
            "|21300       |Sculpin, unidentified               |Upper continental slope  |368.8280560602128 |2.383981720882689 |\n",
            "|30020       |Shortspine thornyhead               |Upper continental slope  |478.7633796257092 |2.3340880747449555|\n",
            "|30475       |Redbanded rockfish                  |Upper continental slope  |527.2610460577673 |2.267247973076335 |\n",
            "|480         |whiteblotched skate                 |Upper continental slope  |538.438586806514  |2.2329561137179135|\n",
            "|401         |Skate Egg Case Unident.             |Upper continental slope  |530.4837545126354 |2.2129963898916967|\n",
            "|30320       |quillback rockfish                  |Upper continental slope  |null              |2.2               |\n",
            "|21230       |Giant grenadier                     |Deep cross-shelf gully   |239.85969521807672|2.066736731476616 |\n",
            "|43000       |Sea anemone unident.                |Deep cross-shelf gully   |335.05799151343706|2.004243281471004 |\n",
            "|160         |Shark eggcase unident               |Upper continental slope  |562.0             |2.0               |\n",
            "|21200       |Grenadier unident.                  |Upper continental slope  |547.0             |2.0               |\n",
            "|30470       |Yelloweye rockfish                  |Upper continental slope  |527.8563006632277 |1.9712482468443198|\n",
            "|400         |Skates unidentified                 |Shallow cross-shelf gully|299.55586491826836|1.96616675593644  |\n",
            "|10110       |Arrowtooth flounder                 |Deep cross-shelf gully   |259.92947882736155|1.9648208469055375|\n",
            "|83000       |Brittlestarfish                     |Upper continental slope  |537.1032227930873 |1.950957496496964 |\n",
            "|30150       |Dusky rockfish                      |Upper continental slope  |514.2435344827586 |1.9357601713062098|\n",
            "|10120       |Pacific halibut                     |Deep cross-shelf gully   |258.6909520348837 |1.9017078488372092|\n",
            "+------------+------------------------------------+-------------------------+------------------+------------------+\n",
            "only showing top 50 rows\n",
            "\n"
          ]
        }
      ]
    },
    {
      "cell_type": "markdown",
      "source": [
        "### Sablefish"
      ],
      "metadata": {
        "id": "yrreBo00ZJhQ"
      }
    },
    {
      "cell_type": "code",
      "source": [
        "q1 = spark.sql(''' SELECT * FROM\n",
        "            (SELECT year, AVG(catch_freq), AVG(soak_time),\n",
        "                  ROW_NUMBER() OVER (PARTITION BY year ORDER BY year) as rwm\n",
        "                    FROM ABL_Survey\n",
        "                      WHERE common_name = \"Sablefish\"\n",
        "                       GROUP BY year) WHERE rwm < 6\n",
        "                          ''')\n",
        "q1.show(100)"
      ],
      "metadata": {
        "id": "3SAewWg5ZLEe",
        "colab": {
          "base_uri": "https://localhost:8080/"
        },
        "outputId": "3acb72a1-f159-4aba-d635-74e45fa2de3c"
      },
      "execution_count": null,
      "outputs": [
        {
          "output_type": "stream",
          "name": "stdout",
          "text": [
            "+----+------------------+------------------+---+\n",
            "|year|   avg(catch_freq)|    avg(soak_time)|rwm|\n",
            "+----+------------------+------------------+---+\n",
            "|1979| 5.765933170334148|              null|  1|\n",
            "|1980|6.0808707124010555|332.67044809982985|  1|\n",
            "|1981| 7.551640759930915| 120.9608520437536|  1|\n",
            "|1982| 7.448484359883908| 323.1000483714931|  1|\n",
            "|1983| 7.736263736263736| 508.4717548076923|  1|\n",
            "|1984| 8.665057526751951| 527.7028723147478|  1|\n",
            "|1985|10.953646173969915| 531.6758502289077|  1|\n",
            "|1986|11.150968273588793| 530.8498168498169|  1|\n",
            "|1987| 9.965859714463067| 545.3102775560876|  1|\n",
            "|1988| 11.49306804952905|  485.628202841686|  1|\n",
            "|1989|11.037008066487411|464.98660296507904|  1|\n",
            "|1990| 9.872452947581273| 312.8187898584539|  1|\n",
            "|1991|10.376968613872444| 372.7084217580699|  1|\n",
            "|1992|10.348877831886513|290.25582257040014|  1|\n",
            "|1993|10.385379858657243|308.73669390459366|  1|\n",
            "|1994| 8.549272326942699|318.24236077546857|  1|\n",
            "|1995|10.419348546908523|507.23590793836553|  1|\n",
            "|1996|10.119266908549633|  421.823704530654|  1|\n",
            "|1997| 9.586814948401964|459.66075543532713|  1|\n",
            "|1998| 8.557168031512388| 476.5040945371618|  1|\n",
            "|1999| 9.576012058570198| 516.5271317829457|  1|\n",
            "|2000| 8.123310990530907| 500.4948398765826|  1|\n",
            "|2001| 9.844221105527637| 494.3060092127303|  1|\n",
            "|2002|  9.27002624671916| 485.0122834645669|  1|\n",
            "|2003| 9.288083667863933|470.95193323473484|  1|\n",
            "|2004| 9.533833021028524| 487.5179054757443|  1|\n",
            "|2005| 8.513325728507725| 480.5358290988282|  1|\n",
            "|2006| 9.242009132420092|485.06063502176914|  1|\n",
            "|2007| 8.786268592369044|478.40310411726665|  1|\n",
            "|2008| 8.175535231760549| 482.5720224485554|  1|\n",
            "|2009| 8.209528010586679| 473.2266210851345|  1|\n",
            "|2010| 9.011004273504273|            485.95|  1|\n",
            "|2011| 10.45736105218498| 474.1303563852355|  1|\n",
            "|2012| 7.513225806451613|481.51236559139784|  1|\n",
            "|2013| 6.516700983756578|  464.647677876916|  1|\n",
            "|2014| 7.125241066364152| 490.0282473057289|  1|\n",
            "|2015| 7.347083386055928|482.19220549158547|  1|\n",
            "|2016| 7.532920138183296|488.92552326762853|  1|\n",
            "|2017| 8.552021071826562| 511.3127342721102|  1|\n",
            "+----+------------------+------------------+---+\n",
            "\n"
          ]
        }
      ]
    },
    {
      "cell_type": "code",
      "source": [
        "# Plotting\n",
        "ml2 = q1.toPandas()\n",
        "plt.figure(figsize=(10, 6))\n",
        "\n",
        "plt.plot(ml2['year'], ml2['avg(catch_freq)'], label='Average Catch Frequency', marker='o', linestyle='-', color='blue')\n",
        "#plt.plot(ml2['year'], ml2['avg(distance_fished)'], label='Average Distance Fished', marker='s', linestyle='-', color='green')\n",
        "\n",
        "# Beautify the plot\n",
        "plt.title('Average Catch Frequency (Sablefish)')\n",
        "plt.xlabel('Year')\n",
        "plt.xticks(rotation=45, ha='right')\n",
        "plt.ylabel('Average Values')\n",
        "plt.legend()  # Add legend\n",
        "plt.grid(True)\n",
        "plt.tight_layout()  # Adjust layout for better appearance\n",
        "\n",
        "# Show the plot\n",
        "plt.show()"
      ],
      "metadata": {
        "colab": {
          "base_uri": "https://localhost:8080/",
          "height": 607
        },
        "id": "HcmTcsOTa2yV",
        "outputId": "38050036-461d-41dd-e1f9-ad6730b9e3bd"
      },
      "execution_count": null,
      "outputs": [
        {
          "output_type": "display_data",
          "data": {
            "text/plain": [
              "<Figure size 1000x600 with 1 Axes>"
            ],
            "image/png": "[encoded data removed]"
          },
          "metadata": {}
        }
      ]
    },
    {
      "cell_type": "markdown",
      "source": [
        "## Linear Regression model with features: Distance fished, Surface temp, soak time, starting depth, ending depth"
      ],
      "metadata": {
        "id": "zQ45dro2pZ7c"
      }
    },
    {
      "cell_type": "code",
      "source": [
        "q1 = spark.sql(\"SELECT catch_freq, surface_temperature, distance_fished, soak_time, starting_depth, ending_depth FROM ABL_Survey WHERE surface_temperature IS NOT NULL AND soak_time IS NOT NULL\")\n",
        "q1.show()\n",
        "ml1 = q1"
      ],
      "metadata": {
        "colab": {
          "base_uri": "https://localhost:8080/"
        },
        "id": "9d0sqOz7pvkV",
        "outputId": "e77fef8c-c3c1-4706-fda4-eb84c76cedef"
      },
      "execution_count": null,
      "outputs": [
        {
          "output_type": "stream",
          "name": "stdout",
          "text": [
            "+----------+-------------------+------------------+---------+--------------+------------+\n",
            "|catch_freq|surface_temperature|   distance_fished|soak_time|starting_depth|ending_depth|\n",
            "+----------+-------------------+------------------+---------+--------------+------------+\n",
            "|       1.0|                7.5|4.3000001907348633|      654|           141|         327|\n",
            "|      12.0|                7.5|4.3000001907348633|      654|           141|         327|\n",
            "|       1.0|                7.5|4.3000001907348633|      654|           141|         327|\n",
            "|       2.0|                7.5|4.3000001907348633|      654|           141|         327|\n",
            "|       1.0|                7.5|4.3000001907348633|      654|           141|         327|\n",
            "|      11.0|                7.5|4.3000001907348633|      654|           141|         327|\n",
            "|       3.0|                7.5|4.3000001907348633|      654|           141|         327|\n",
            "|      11.0|                7.5|4.3000001907348633|      654|           141|         327|\n",
            "|       5.0|                7.5|4.3000001907348633|      654|           141|         327|\n",
            "|       5.0|                7.5|4.3000001907348633|      654|           141|         327|\n",
            "|       1.0|                7.5|4.3000001907348633|      654|           141|         327|\n",
            "|       2.0|                7.5|4.3000001907348633|      654|           141|         327|\n",
            "|       1.0|                7.5|4.3000001907348633|      654|           141|         327|\n",
            "|      11.0|                7.5|4.3000001907348633|      654|           141|         327|\n",
            "|       1.0|                7.5|4.3000001907348633|      654|           141|         327|\n",
            "|      12.0|                7.5|4.3000001907348633|      654|           141|         327|\n",
            "|       5.0|                7.5|4.3000001907348633|      654|           141|         327|\n",
            "|       8.0|                7.5|4.3000001907348633|      654|           141|         327|\n",
            "|       2.0|                7.5|4.3000001907348633|      654|           141|         327|\n",
            "|       2.0|                7.5|4.3000001907348633|      654|           141|         327|\n",
            "+----------+-------------------+------------------+---------+--------------+------------+\n",
            "only showing top 20 rows\n",
            "\n"
          ]
        }
      ]
    },
    {
      "cell_type": "code",
      "source": [
        "def parsePoint(row):\n",
        "    catch_freq = float(row['catch_freq'])\n",
        "    # Check if 'surface_temperature' is None and handle it accordingly\n",
        "    surface_temperature = float(row['surface_temperature'])\n",
        "    distance_fished = float(row['distance_fished'])\n",
        "    soak_time = float(row['soak_time'])\n",
        "    starting_depth = float(row['starting_depth'])\n",
        "    ending_depth = float(row['ending_depth'])\n",
        "\n",
        "\n",
        "    # Assuming 'catch_freq' is the label\n",
        "    label = catch_freq\n",
        "    features = ([surface_temperature,distance_fished,soak_time,starting_depth,ending_depth])\n",
        "\n",
        "    return LabeledPoint(label, features)"
      ],
      "metadata": {
        "id": "2uZlgLlHqDLz"
      },
      "execution_count": null,
      "outputs": []
    },
    {
      "cell_type": "code",
      "source": [
        "ml1 = ml1.rdd\n",
        "ml1 = ml1.map(parsePoint)"
      ],
      "metadata": {
        "id": "hkSJQxNlqXCF"
      },
      "execution_count": null,
      "outputs": []
    },
    {
      "cell_type": "code",
      "source": [
        "train, test = ml1.randomSplit([0.8, 0.2])"
      ],
      "metadata": {
        "id": "13QHAGheqfB7"
      },
      "execution_count": null,
      "outputs": []
    },
    {
      "cell_type": "code",
      "source": [
        "model = LinearRegressionWithSGD.train(train, iterations=1000, step=0.000001)\n",
        "predictions = test.map(lambda x: (x.label, model.predict(x.features)))\n",
        "SE = predictions.map(lambda x: (x[0] - x[1])**2)\n",
        "MSE = SE.reduce(lambda x, y: x + y) / predictions.count()\n",
        "RMSE = sqrt(MSE)\n",
        "print(\"Root Mean Squared Error = \" + str(RMSE))"
      ],
      "metadata": {
        "colab": {
          "base_uri": "https://localhost:8080/"
        },
        "id": "6j5LCtlnqhGD",
        "outputId": "1da8c745-e597-42db-84b6-a1d06484a56c"
      },
      "execution_count": null,
      "outputs": [
        {
          "output_type": "stream",
          "name": "stdout",
          "text": [
            "Root Mean Squared Error = 6.1384161547770875\n"
          ]
        }
      ]
    },
    {
      "cell_type": "markdown",
      "source": [
        "## Random forest regression"
      ],
      "metadata": {
        "id": "rR6zEhyaufn1"
      }
    },
    {
      "cell_type": "code",
      "source": [
        "from pyspark.ml.regression import RandomForestRegressor"
      ],
      "metadata": {
        "id": "SpoKeEORt7eX"
      },
      "execution_count": null,
      "outputs": []
    },
    {
      "cell_type": "code",
      "source": [
        "q1 = spark.sql(\"SELECT catch_freq, surface_temperature, distance_fished, soak_time, starting_depth, ending_depth FROM ABL_Survey WHERE surface_temperature IS NOT NULL AND soak_time IS NOT NULL\")\n",
        "q1.show()\n",
        "ml1 = q1"
      ],
      "metadata": {
        "colab": {
          "base_uri": "https://localhost:8080/"
        },
        "id": "pICLyUJRu9zQ",
        "outputId": "7e20279a-50bc-4062-8700-bc0256f14698"
      },
      "execution_count": null,
      "outputs": [
        {
          "output_type": "stream",
          "name": "stdout",
          "text": [
            "+----------+-------------------+---------------+---------+--------------+------------+\n",
            "|catch_freq|surface_temperature|distance_fished|soak_time|starting_depth|ending_depth|\n",
            "+----------+-------------------+---------------+---------+--------------+------------+\n",
            "|       1.0|                7.5|            4.3|    654.0|         141.0|       327.0|\n",
            "|      12.0|                7.5|            4.3|    654.0|         141.0|       327.0|\n",
            "|       1.0|                7.5|            4.3|    654.0|         141.0|       327.0|\n",
            "|       2.0|                7.5|            4.3|    654.0|         141.0|       327.0|\n",
            "|       1.0|                7.5|            4.3|    654.0|         141.0|       327.0|\n",
            "|      11.0|                7.5|            4.3|    654.0|         141.0|       327.0|\n",
            "|       3.0|                7.5|            4.3|    654.0|         141.0|       327.0|\n",
            "|      11.0|                7.5|            4.3|    654.0|         141.0|       327.0|\n",
            "|       5.0|                7.5|            4.3|    654.0|         141.0|       327.0|\n",
            "|       5.0|                7.5|            4.3|    654.0|         141.0|       327.0|\n",
            "|       1.0|                7.5|            4.3|    654.0|         141.0|       327.0|\n",
            "|       2.0|                7.5|            4.3|    654.0|         141.0|       327.0|\n",
            "|       1.0|                7.5|            4.3|    654.0|         141.0|       327.0|\n",
            "|      11.0|                7.5|            4.3|    654.0|         141.0|       327.0|\n",
            "|       1.0|                7.5|            4.3|    654.0|         141.0|       327.0|\n",
            "|      12.0|                7.5|            4.3|    654.0|         141.0|       327.0|\n",
            "|       5.0|                7.5|            4.3|    654.0|         141.0|       327.0|\n",
            "|       8.0|                7.5|            4.3|    654.0|         141.0|       327.0|\n",
            "|       2.0|                7.5|            4.3|    654.0|         141.0|       327.0|\n",
            "|       2.0|                7.5|            4.3|    654.0|         141.0|       327.0|\n",
            "+----------+-------------------+---------------+---------+--------------+------------+\n",
            "only showing top 20 rows\n",
            "\n"
          ]
        }
      ]
    },
    {
      "cell_type": "code",
      "source": [
        "ml1 = ml1.withColumn(\"distance_fished\", col(\"distance_fished\").cast(\"float\"))\n",
        "ml1 = ml1.withColumn(\"catch_freq\", col(\"catch_freq\").cast(\"float\"))\n",
        "#ml1 = ml1.withColumn(\"hachi\", col(\"hachi\").cast(\"float\"))\n",
        "#ml1 = ml1.withColumn(\"year\", col(\"year\").cast(\"float\"))\n",
        "ml1 = ml1.withColumn(\"soak_time\", col(\"soak_time\").cast(\"float\"))\n",
        "ml1 = ml1.withColumn(\"starting_depth\", col(\"starting_depth\").cast(\"float\"))\n",
        "ml1 = ml1.withColumn(\"ending_depth\", col(\"ending_depth\").cast(\"float\"))\n",
        "ml1 = ml1.withColumn(\"surface_temperature\", col(\"surface_temperature\").cast(\"float\"))"
      ],
      "metadata": {
        "id": "YhiDtIORvOQw"
      },
      "execution_count": null,
      "outputs": []
    },
    {
      "cell_type": "code",
      "source": [
        "# Preparing the data\n",
        "feature_columns = [\"surface_temperature\", \"distance_fished\", \"soak_time\", \"starting_depth\", \"ending_depth\"]\n",
        "assembler = VectorAssembler(inputCols=feature_columns, outputCol=\"features\")\n",
        "df_assembled = assembler.transform(ml1)\n",
        "\n",
        "# Selecting features and target variable\n",
        "data = df_assembled.select(\"features\", \"catch_freq\")\n",
        "\n",
        "# Splitting the data into training and testing sets\n",
        "(train_data, test_data) = data.randomSplit([0.8, 0.2], seed=1234)\n",
        "\n",
        "# Defining the Random Forest Regression model\n",
        "rf = RandomForestRegressor(labelCol=\"catch_freq\", featuresCol=\"features\")\n",
        "\n",
        "# Training the model\n",
        "model = rf.fit(train_data)\n",
        "\n",
        "# Making predictions on the test set\n",
        "predictions = model.transform(test_data)\n",
        "\n",
        "# Evaluating the model\n",
        "evaluator = RegressionEvaluator(labelCol=\"catch_freq\", predictionCol=\"prediction\", metricName=\"rmse\")\n",
        "rmse = evaluator.evaluate(predictions)\n",
        "print(f\"Root Mean Squared Error (RMSE): {rmse}\")"
      ],
      "metadata": {
        "colab": {
          "base_uri": "https://localhost:8080/"
        },
        "id": "IUV6SvBzxrP9",
        "outputId": "c43872f6-288f-4006-f308-671933fa6c6a"
      },
      "execution_count": null,
      "outputs": [
        {
          "output_type": "stream",
          "name": "stdout",
          "text": [
            "Root Mean Squared Error (RMSE): 5.950586046227268\n"
          ]
        }
      ]
    },
    {
      "cell_type": "markdown",
      "source": [
        "## GBT Regressor"
      ],
      "metadata": {
        "id": "_10j8FPRzCLI"
      }
    },
    {
      "cell_type": "code",
      "source": [
        "q1 = spark.sql(\"SELECT catch_freq, surface_temperature, distance_fished, soak_time, starting_depth, ending_depth FROM ABL_Survey WHERE surface_temperature IS NOT NULL AND soak_time IS NOT NULL\")\n",
        "q1.show()\n",
        "ml1 = q1"
      ],
      "metadata": {
        "colab": {
          "base_uri": "https://localhost:8080/"
        },
        "id": "yFlGLKSUzZLo",
        "outputId": "41e7712f-26ca-4d05-e0c6-91875a2bfc9c"
      },
      "execution_count": null,
      "outputs": [
        {
          "output_type": "stream",
          "name": "stdout",
          "text": [
            "+----------+-------------------+---------------+---------+--------------+------------+\n",
            "|catch_freq|surface_temperature|distance_fished|soak_time|starting_depth|ending_depth|\n",
            "+----------+-------------------+---------------+---------+--------------+------------+\n",
            "|       1.0|                7.5|            4.3|    654.0|         141.0|       327.0|\n",
            "|      12.0|                7.5|            4.3|    654.0|         141.0|       327.0|\n",
            "|       1.0|                7.5|            4.3|    654.0|         141.0|       327.0|\n",
            "|       2.0|                7.5|            4.3|    654.0|         141.0|       327.0|\n",
            "|       1.0|                7.5|            4.3|    654.0|         141.0|       327.0|\n",
            "|      11.0|                7.5|            4.3|    654.0|         141.0|       327.0|\n",
            "|       3.0|                7.5|            4.3|    654.0|         141.0|       327.0|\n",
            "|      11.0|                7.5|            4.3|    654.0|         141.0|       327.0|\n",
            "|       5.0|                7.5|            4.3|    654.0|         141.0|       327.0|\n",
            "|       5.0|                7.5|            4.3|    654.0|         141.0|       327.0|\n",
            "|       1.0|                7.5|            4.3|    654.0|         141.0|       327.0|\n",
            "|       2.0|                7.5|            4.3|    654.0|         141.0|       327.0|\n",
            "|       1.0|                7.5|            4.3|    654.0|         141.0|       327.0|\n",
            "|      11.0|                7.5|            4.3|    654.0|         141.0|       327.0|\n",
            "|       1.0|                7.5|            4.3|    654.0|         141.0|       327.0|\n",
            "|      12.0|                7.5|            4.3|    654.0|         141.0|       327.0|\n",
            "|       5.0|                7.5|            4.3|    654.0|         141.0|       327.0|\n",
            "|       8.0|                7.5|            4.3|    654.0|         141.0|       327.0|\n",
            "|       2.0|                7.5|            4.3|    654.0|         141.0|       327.0|\n",
            "|       2.0|                7.5|            4.3|    654.0|         141.0|       327.0|\n",
            "+----------+-------------------+---------------+---------+--------------+------------+\n",
            "only showing top 20 rows\n",
            "\n"
          ]
        }
      ]
    },
    {
      "cell_type": "code",
      "source": [
        "ml1 = ml1.withColumn(\"distance_fished\", col(\"distance_fished\").cast(\"float\"))\n",
        "ml1 = ml1.withColumn(\"catch_freq\", col(\"catch_freq\").cast(\"float\"))\n",
        "#ml1 = ml1.withColumn(\"hachi\", col(\"hachi\").cast(\"float\"))\n",
        "#ml1 = ml1.withColumn(\"year\", col(\"year\").cast(\"float\"))\n",
        "ml1 = ml1.withColumn(\"soak_time\", col(\"soak_time\").cast(\"float\"))\n",
        "ml1 = ml1.withColumn(\"starting_depth\", col(\"starting_depth\").cast(\"float\"))\n",
        "ml1 = ml1.withColumn(\"ending_depth\", col(\"ending_depth\").cast(\"float\"))\n",
        "ml1 = ml1.withColumn(\"surface_temperature\", col(\"surface_temperature\").cast(\"float\"))"
      ],
      "metadata": {
        "id": "dmbxO3nvzZCB"
      },
      "execution_count": null,
      "outputs": []
    },
    {
      "cell_type": "code",
      "source": [
        "\n",
        "feature_columns = [\"surface_temperature\", \"distance_fished\", \"soak_time\", \"starting_depth\", \"ending_depth\"]\n",
        "assembler = VectorAssembler(inputCols=feature_columns, outputCol=\"features\")\n",
        "df_assembled = assembler.transform(ml1)\n",
        "\n",
        "\n",
        "data = df_assembled.select(\"features\", \"catch_freq\")\n",
        "\n",
        "(train_data, test_data) = data.randomSplit([0.8, 0.2], seed=1234)\n",
        "\n",
        "\n",
        "gbt = GBTRegressor(labelCol=\"catch_freq\", featuresCol=\"features\", maxIter=10)\n",
        "\n",
        "\n",
        "model = gbt.fit(train_data)\n",
        "\n",
        "# Making predictions on the test set\n",
        "predictions = model.transform(test_data)\n",
        "\n",
        "# Evaluating the model\n",
        "evaluator = RegressionEvaluator(labelCol=\"catch_freq\", predictionCol=\"prediction\", metricName=\"rmse\")\n",
        "rmse = evaluator.evaluate(predictions)\n",
        "print(f\"Root Mean Squared Error (RMSE): {rmse}\")"
      ],
      "metadata": {
        "colab": {
          "base_uri": "https://localhost:8080/"
        },
        "id": "FDERvboFzVAz",
        "outputId": "987a4768-8742-4e48-ce59-ecd6813c5faa"
      },
      "execution_count": null,
      "outputs": [
        {
          "output_type": "stream",
          "name": "stdout",
          "text": [
            "Root Mean Squared Error (RMSE): 5.925700192046256\n"
          ]
        }
      ]
    },
    {
      "cell_type": "markdown",
      "source": [
        "## Generalized Linear Regression"
      ],
      "metadata": {
        "id": "A060sBwf0FaD"
      }
    },
    {
      "cell_type": "code",
      "source": [
        "q1 = spark.sql(\"SELECT catch_freq, surface_temperature, distance_fished, soak_time, starting_depth, ending_depth FROM ABL_Survey WHERE surface_temperature IS NOT NULL AND soak_time IS NOT NULL\")\n",
        "q1.show()\n",
        "ml1 = q1"
      ],
      "metadata": {
        "colab": {
          "base_uri": "https://localhost:8080/"
        },
        "id": "nAJ1YTEW0LlH",
        "outputId": "acb59e18-a6ff-4ec3-8913-a7afb676d822"
      },
      "execution_count": null,
      "outputs": [
        {
          "output_type": "stream",
          "name": "stdout",
          "text": [
            "+----------+-------------------+---------------+---------+--------------+------------+\n",
            "|catch_freq|surface_temperature|distance_fished|soak_time|starting_depth|ending_depth|\n",
            "+----------+-------------------+---------------+---------+--------------+------------+\n",
            "|       1.0|                7.5|            4.3|    654.0|         141.0|       327.0|\n",
            "|      12.0|                7.5|            4.3|    654.0|         141.0|       327.0|\n",
            "|       1.0|                7.5|            4.3|    654.0|         141.0|       327.0|\n",
            "|       2.0|                7.5|            4.3|    654.0|         141.0|       327.0|\n",
            "|       1.0|                7.5|            4.3|    654.0|         141.0|       327.0|\n",
            "|      11.0|                7.5|            4.3|    654.0|         141.0|       327.0|\n",
            "|       3.0|                7.5|            4.3|    654.0|         141.0|       327.0|\n",
            "|      11.0|                7.5|            4.3|    654.0|         141.0|       327.0|\n",
            "|       5.0|                7.5|            4.3|    654.0|         141.0|       327.0|\n",
            "|       5.0|                7.5|            4.3|    654.0|         141.0|       327.0|\n",
            "|       1.0|                7.5|            4.3|    654.0|         141.0|       327.0|\n",
            "|       2.0|                7.5|            4.3|    654.0|         141.0|       327.0|\n",
            "|       1.0|                7.5|            4.3|    654.0|         141.0|       327.0|\n",
            "|      11.0|                7.5|            4.3|    654.0|         141.0|       327.0|\n",
            "|       1.0|                7.5|            4.3|    654.0|         141.0|       327.0|\n",
            "|      12.0|                7.5|            4.3|    654.0|         141.0|       327.0|\n",
            "|       5.0|                7.5|            4.3|    654.0|         141.0|       327.0|\n",
            "|       8.0|                7.5|            4.3|    654.0|         141.0|       327.0|\n",
            "|       2.0|                7.5|            4.3|    654.0|         141.0|       327.0|\n",
            "|       2.0|                7.5|            4.3|    654.0|         141.0|       327.0|\n",
            "+----------+-------------------+---------------+---------+--------------+------------+\n",
            "only showing top 20 rows\n",
            "\n"
          ]
        }
      ]
    },
    {
      "cell_type": "code",
      "source": [
        "ml1 = ml1.withColumn(\"distance_fished\", col(\"distance_fished\").cast(\"float\"))\n",
        "ml1 = ml1.withColumn(\"catch_freq\", col(\"catch_freq\").cast(\"float\"))\n",
        "#ml1 = ml1.withColumn(\"hachi\", col(\"hachi\").cast(\"float\"))\n",
        "#ml1 = ml1.withColumn(\"year\", col(\"year\").cast(\"float\"))\n",
        "ml1 = ml1.withColumn(\"soak_time\", col(\"soak_time\").cast(\"float\"))\n",
        "ml1 = ml1.withColumn(\"starting_depth\", col(\"starting_depth\").cast(\"float\"))\n",
        "ml1 = ml1.withColumn(\"ending_depth\", col(\"ending_depth\").cast(\"float\"))\n",
        "ml1 = ml1.withColumn(\"surface_temperature\", col(\"surface_temperature\").cast(\"float\"))"
      ],
      "metadata": {
        "id": "myc7RA2V0Lgx"
      },
      "execution_count": null,
      "outputs": []
    },
    {
      "cell_type": "code",
      "source": [
        "\n",
        "feature_columns = [\"surface_temperature\", \"distance_fished\", \"soak_time\", \"starting_depth\", \"ending_depth\"]\n",
        "assembler = VectorAssembler(inputCols=feature_columns, outputCol=\"features\")\n",
        "df_assembled = assembler.transform(ml1)\n",
        "\n",
        "\n",
        "data = df_assembled.select(\"features\", \"catch_freq\")\n",
        "\n",
        "\n",
        "(train_data, test_data) = data.randomSplit([0.8, 0.2], seed=1234)\n",
        "\n",
        "\n",
        "glr = GeneralizedLinearRegression(labelCol=\"catch_freq\", featuresCol=\"features\", family=\"gaussian\", link=\"identity\")\n",
        "\n",
        "\n",
        "model = glr.fit(train_data)\n",
        "\n",
        "\n",
        "predictions = model.transform(test_data)\n",
        "\n",
        "\n",
        "evaluator = RegressionEvaluator(labelCol=\"catch_freq\", predictionCol=\"prediction\", metricName=\"rmse\")\n",
        "rmse = evaluator.evaluate(predictions)\n",
        "print(f\"Root Mean Squared Error (RMSE): {rmse}\")"
      ],
      "metadata": {
        "colab": {
          "base_uri": "https://localhost:8080/"
        },
        "id": "DyYahEjI0QEo",
        "outputId": "986d125f-388e-4c66-80da-0a867f97d493"
      },
      "execution_count": null,
      "outputs": [
        {
          "output_type": "stream",
          "name": "stdout",
          "text": [
            "Root Mean Squared Error (RMSE): 5.9895818598364325\n"
          ]
        }
      ]
    },
    {
      "cell_type": "markdown",
      "source": [
        "## Correlation analysis"
      ],
      "metadata": {
        "id": "DZKK7wF26-Od"
      }
    },
    {
      "cell_type": "code",
      "source": [
        "q1 = spark.sql(\"SELECT * FROM ABL_Survey\")\n",
        "ml1 = q1"
      ],
      "metadata": {
        "id": "9bsZcWMb7EG3"
      },
      "execution_count": null,
      "outputs": []
    },
    {
      "cell_type": "code",
      "source": [
        "ml1 = ml1.withColumn(\"distance_fished\", col(\"distance_fished\").cast(\"float\"))\n",
        "ml1 = ml1.withColumn(\"catch_freq\", col(\"catch_freq\").cast(\"float\"))\n",
        "#ml1 = ml1.withColumn(\"hachi\", col(\"hachi\").cast(\"float\"))\n",
        "ml1 = ml1.withColumn(\"year\", col(\"year\").cast(\"float\"))\n",
        "ml1 = ml1.withColumn(\"soak_time\", col(\"soak_time\").cast(\"float\"))\n",
        "ml1 = ml1.withColumn(\"starting_depth\", col(\"starting_depth\").cast(\"float\"))\n",
        "ml1 = ml1.withColumn(\"ending_depth\", col(\"ending_depth\").cast(\"float\"))\n",
        "ml1 = ml1.withColumn(\"surface_temperature\", col(\"surface_temperature\").cast(\"float\"))\n",
        "ml1 = ml1.withColumn(\"haul_date\", col(\"haul_date\").cast(TimestampType()))"
      ],
      "metadata": {
        "id": "XjgHUa__7lD_"
      },
      "execution_count": null,
      "outputs": []
    },
    {
      "cell_type": "code",
      "source": [
        "correlation_result = ml1.stat.corr(\"soak_time\", \"catch_freq\")\n",
        "\n",
        "print(f\"Correlation between 'distance_fished' and 'catch_freq': {correlation_result}\")"
      ],
      "metadata": {
        "colab": {
          "base_uri": "https://localhost:8080/"
        },
        "id": "AOkE4qpI7Uax",
        "outputId": "a92424b4-074e-467b-9740-cee5f3be7be4"
      },
      "execution_count": null,
      "outputs": [
        {
          "output_type": "stream",
          "name": "stdout",
          "text": [
            "Correlation between 'distance_fished' and 'catch_freq': 0.06229893640134641\n"
          ]
        }
      ]
    }
  ]
}